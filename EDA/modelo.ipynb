{
 "cells": [
  {
   "cell_type": "markdown",
   "metadata": {},
   "source": [
    "# Lectura de los datoss"
   ]
  },
  {
   "cell_type": "code",
   "execution_count": 2,
   "metadata": {},
   "outputs": [],
   "source": [
    "# Importamos la data \n",
    "import pandas as pd\n",
    "\n",
    "df = pd.read_excel(\"/home/jeffpretellds/Documents/VISUAL CODE/CIENCIADEDATOSUDEMY/Machine Learning/CasoSiniestros/Data_Siniestros en Seguros .xlsx\")"
   ]
  },
  {
   "cell_type": "code",
   "execution_count": 3,
   "metadata": {},
   "outputs": [
    {
     "data": {
      "text/plain": [
       "Index(['Cliente_ID', 'Antigüedad_Maxima', 'Nivel_Ingresos', 'Saldo_Pendiente',\n",
       "       'Puntaje_Morosidad1', 'Puntaje_Morosidad2', 'Puntaje_Morosidad3',\n",
       "       'Puntaje_Morosidad4', 'Puntaje_Morosidad5', 'Puntaje_Morosidad6',\n",
       "       'Saldo_Pendiente_Seg', 'Siniestros1', 'Siniestros2', 'Siniestros3',\n",
       "       'Siniestros4', 'Siniestros5', 'Siniestros6', 'Estado_Siniestro'],\n",
       "      dtype='object')"
      ]
     },
     "execution_count": 3,
     "metadata": {},
     "output_type": "execute_result"
    }
   ],
   "source": [
    "df.columns"
   ]
  },
  {
   "cell_type": "markdown",
   "metadata": {},
   "source": [
    "# Limpieza de datos"
   ]
  },
  {
   "cell_type": "markdown",
   "metadata": {},
   "source": [
    "Descartaremos la eliminaciòn de variables.\n",
    "\n",
    "Tenemos dos formas para limpiar la data para comparar cuàl dio mejores resultados:\n",
    "\n",
    "- Eliminar filas\n",
    "- Imputar"
   ]
  },
  {
   "cell_type": "markdown",
   "metadata": {},
   "source": [
    "## Eliminammos filas"
   ]
  },
  {
   "cell_type": "code",
   "execution_count": 4,
   "metadata": {},
   "outputs": [],
   "source": [
    "df_nasupr = df.copy()\n",
    "df_nasupr.dropna(subset = ['Antigüedad_Maxima', 'Nivel_Ingresos','Puntaje_Morosidad1', 'Puntaje_Morosidad2', 'Puntaje_Morosidad3','Puntaje_Morosidad4', 'Puntaje_Morosidad5', 'Puntaje_Morosidad6',\"Estado_Siniestro\"],inplace=True)"
   ]
  },
  {
   "cell_type": "code",
   "execution_count": 5,
   "metadata": {},
   "outputs": [],
   "source": [
    "# Vamos a reemplazar en las variables 'Puntaje_Morosidad2', 'Puntaje_Morosidad3','Puntaje_Morosidad4', 'Puntaje_Morosidad5', 'Puntaje_Morosidad6' el valor 7 por la mediana de cada variable sin el 7\n",
    "\n",
    "df_nasupr['Puntaje_Morosidad2'] = df_nasupr['Puntaje_Morosidad2'].replace(7,df_nasupr['Puntaje_Morosidad2'].median())\n",
    "df_nasupr['Puntaje_Morosidad3'] = df_nasupr['Puntaje_Morosidad3'].replace(7,df_nasupr['Puntaje_Morosidad3'].median())\n",
    "df_nasupr['Puntaje_Morosidad4'] = df_nasupr['Puntaje_Morosidad4'].replace(7,df_nasupr['Puntaje_Morosidad4'].median())\n",
    "df_nasupr['Puntaje_Morosidad5'] = df_nasupr['Puntaje_Morosidad5'].replace(7,df_nasupr['Puntaje_Morosidad5'].median())\n",
    "df_nasupr['Puntaje_Morosidad6'] = df_nasupr['Puntaje_Morosidad6'].replace(7,df_nasupr['Puntaje_Morosidad6'].median())\n",
    "\n",
    "# Warning: La mediana ha tomado el 7 en cuenta"
   ]
  },
  {
   "cell_type": "code",
   "execution_count": 6,
   "metadata": {},
   "outputs": [
    {
     "data": {
      "text/plain": [
       "Cliente_ID             0\n",
       "Antigüedad_Maxima      0\n",
       "Nivel_Ingresos         0\n",
       "Saldo_Pendiente        0\n",
       "Puntaje_Morosidad1     0\n",
       "Puntaje_Morosidad2     0\n",
       "Puntaje_Morosidad3     0\n",
       "Puntaje_Morosidad4     0\n",
       "Puntaje_Morosidad5     0\n",
       "Puntaje_Morosidad6     0\n",
       "Saldo_Pendiente_Seg    0\n",
       "Siniestros1            0\n",
       "Siniestros2            0\n",
       "Siniestros3            0\n",
       "Siniestros4            0\n",
       "Siniestros5            0\n",
       "Siniestros6            0\n",
       "Estado_Siniestro       0\n",
       "dtype: int64"
      ]
     },
     "execution_count": 6,
     "metadata": {},
     "output_type": "execute_result"
    }
   ],
   "source": [
    "df_nasupr.isna().sum()"
   ]
  },
  {
   "cell_type": "code",
   "execution_count": 7,
   "metadata": {},
   "outputs": [
    {
     "name": "stderr",
     "output_type": "stream",
     "text": [
      "/tmp/ipykernel_2660/1782030131.py:1: FutureWarning: A value is trying to be set on a copy of a DataFrame or Series through chained assignment using an inplace method.\n",
      "The behavior will change in pandas 3.0. This inplace method will never work because the intermediate object on which we are setting values always behaves as a copy.\n",
      "\n",
      "For example, when doing 'df[col].method(value, inplace=True)', try using 'df.method({col: value}, inplace=True)' or df[col] = df[col].method(value) instead, to perform the operation inplace on the original object.\n",
      "\n",
      "\n",
      "  df_nasupr[\"Estado_Siniestro\"].replace({\"si\":1,\"no\":0},inplace=True)\n",
      "/tmp/ipykernel_2660/1782030131.py:1: FutureWarning: Downcasting behavior in `replace` is deprecated and will be removed in a future version. To retain the old behavior, explicitly call `result.infer_objects(copy=False)`. To opt-in to the future behavior, set `pd.set_option('future.no_silent_downcasting', True)`\n",
      "  df_nasupr[\"Estado_Siniestro\"].replace({\"si\":1,\"no\":0},inplace=True)\n"
     ]
    }
   ],
   "source": [
    "df_nasupr[\"Estado_Siniestro\"].replace({\"si\":1,\"no\":0},inplace=True)"
   ]
  },
  {
   "cell_type": "markdown",
   "metadata": {},
   "source": [
    "### Resumimos y generamos nuevas variables"
   ]
  },
  {
   "cell_type": "code",
   "execution_count": 8,
   "metadata": {},
   "outputs": [
    {
     "data": {
      "text/plain": [
       "Index(['Cliente_ID', 'Antigüedad_Maxima', 'Nivel_Ingresos', 'Saldo_Pendiente',\n",
       "       'Puntaje_Morosidad1', 'Puntaje_Morosidad2', 'Puntaje_Morosidad3',\n",
       "       'Puntaje_Morosidad4', 'Puntaje_Morosidad5', 'Puntaje_Morosidad6',\n",
       "       'Saldo_Pendiente_Seg', 'Siniestros1', 'Siniestros2', 'Siniestros3',\n",
       "       'Siniestros4', 'Siniestros5', 'Siniestros6', 'Estado_Siniestro'],\n",
       "      dtype='object')"
      ]
     },
     "execution_count": 8,
     "metadata": {},
     "output_type": "execute_result"
    }
   ],
   "source": [
    "df_nasupr.columns"
   ]
  },
  {
   "cell_type": "code",
   "execution_count": 9,
   "metadata": {},
   "outputs": [],
   "source": [
    "# Morosidad_semestral \n",
    "\n",
    "Morosidad_semestral = df_nasupr[[\"Puntaje_Morosidad1\",\"Puntaje_Morosidad2\",\"Puntaje_Morosidad3\",\"Puntaje_Morosidad4\",\"Puntaje_Morosidad5\",\"Puntaje_Morosidad6\"]].apply(lambda x: x.median(),axis=1).to_frame(name = 'Morosidad_semestral')\n",
    "\n",
    "Sinestros_semestrales = df_nasupr[['Siniestros1', 'Siniestros2', 'Siniestros3','Siniestros4', 'Siniestros5','Siniestros6']].apply(lambda x: x.median(),axis=1).to_frame(name = 'Sinestros_semestrales')"
   ]
  },
  {
   "cell_type": "code",
   "execution_count": 10,
   "metadata": {},
   "outputs": [],
   "source": [
    "df_nasupr_offi = pd.concat([df_nasupr.loc[:,['Antigüedad_Maxima', 'Nivel_Ingresos','Saldo_Pendiente','Saldo_Pendiente_Seg','Estado_Siniestro']],Morosidad_semestral,Sinestros_semestrales],axis=1)"
   ]
  },
  {
   "cell_type": "code",
   "execution_count": 11,
   "metadata": {},
   "outputs": [
    {
     "data": {
      "application/vnd.microsoft.datawrangler.viewer.v0+json": {
       "columns": [
        {
         "name": "index",
         "rawType": "int64",
         "type": "integer"
        },
        {
         "name": "Antigüedad_Maxima",
         "rawType": "float64",
         "type": "float"
        },
        {
         "name": "Nivel_Ingresos",
         "rawType": "float64",
         "type": "float"
        },
        {
         "name": "Saldo_Pendiente",
         "rawType": "float64",
         "type": "float"
        },
        {
         "name": "Saldo_Pendiente_Seg",
         "rawType": "float64",
         "type": "float"
        },
        {
         "name": "Estado_Siniestro",
         "rawType": "int64",
         "type": "integer"
        },
        {
         "name": "Morosidad_semestral",
         "rawType": "float64",
         "type": "float"
        },
        {
         "name": "Sinestros_semestrales",
         "rawType": "float64",
         "type": "float"
        }
       ],
       "conversionMethod": "pd.DataFrame",
       "ref": "44e0a4e6-83b4-4a85-b25d-02f844de4389",
       "rows": [
        [
         "0",
         "44.0",
         "1.0",
         "604.86",
         "0.0",
         "0",
         "0.0",
         "0.0"
        ],
        [
         "1",
         "79.0",
         "1.0",
         "1006.21",
         "0.0",
         "0",
         "0.0",
         "0.0"
        ],
        [
         "2",
         "102.0",
         "1.0",
         "299.23",
         "0.0",
         "0",
         "0.0",
         "0.0"
        ],
        [
         "6",
         "172.0",
         "0.0",
         "3517.07",
         "0.0",
         "0",
         "0.0",
         "0.0"
        ],
        [
         "7",
         "76.0",
         "1.0",
         "216.52",
         "0.0",
         "0",
         "0.0",
         "0.5"
        ],
        [
         "8",
         "136.0",
         "0.0",
         "1908.69",
         "0.0",
         "0",
         "0.0",
         "0.0"
        ],
        [
         "9",
         "171.0",
         "0.0",
         "1895.19",
         "0.0",
         "0",
         "0.0",
         "0.0"
        ],
        [
         "10",
         "93.0",
         "1.0",
         "1310.43",
         "0.0",
         "0",
         "0.0",
         "0.0"
        ],
        [
         "11",
         "119.0",
         "1.0",
         "5085.55",
         "0.0",
         "0",
         "0.0",
         "0.0"
        ],
        [
         "13",
         "17.0",
         "1.0",
         "193.4",
         "0.0",
         "0",
         "0.0",
         "0.0"
        ],
        [
         "14",
         "122.0",
         "1.0",
         "83.34",
         "0.0",
         "0",
         "0.0",
         "0.0"
        ],
        [
         "16",
         "168.0",
         "5.0",
         "335.69",
         "0.0",
         "0",
         "0.0",
         "0.0"
        ],
        [
         "17",
         "178.0",
         "1.0",
         "3054.95",
         "0.0",
         "0",
         "0.0",
         "0.0"
        ],
        [
         "18",
         "220.0",
         "3.0",
         "12495.04",
         "0.0",
         "0",
         "0.0",
         "0.0"
        ],
        [
         "19",
         "16.0",
         "1.0",
         "5600.89",
         "0.0",
         "0",
         "0.0",
         "0.0"
        ],
        [
         "21",
         "61.0",
         "1.0",
         "91.77",
         "59503.86",
         "0",
         "0.0",
         "0.0"
        ],
        [
         "22",
         "85.0",
         "3.0",
         "3646.29",
         "0.0",
         "0",
         "0.0",
         "0.0"
        ],
        [
         "24",
         "51.0",
         "3.0",
         "6360.2",
         "0.0",
         "0",
         "0.0",
         "0.0"
        ],
        [
         "25",
         "87.0",
         "1.0",
         "7240.69",
         "0.0",
         "0",
         "0.0",
         "0.0"
        ],
        [
         "26",
         "15.0",
         "1.0",
         "276.72",
         "0.0",
         "0",
         "0.0",
         "0.0"
        ],
        [
         "28",
         "72.0",
         "3.0",
         "15786.2",
         "0.0",
         "0",
         "0.0",
         "0.0"
        ],
        [
         "29",
         "46.0",
         "1.0",
         "0.11",
         "0.0",
         "0",
         "0.0",
         "0.0"
        ],
        [
         "31",
         "24.0",
         "1.0",
         "6961.42",
         "0.0",
         "0",
         "0.0",
         "0.0"
        ],
        [
         "33",
         "9.0",
         "1.0",
         "281.02",
         "0.0",
         "0",
         "0.0",
         "1.0"
        ],
        [
         "34",
         "43.0",
         "1.0",
         "167.9",
         "0.0",
         "0",
         "0.0",
         "0.0"
        ],
        [
         "35",
         "255.0",
         "5.0",
         "1210.0",
         "0.0",
         "0",
         "0.0",
         "0.0"
        ],
        [
         "36",
         "69.0",
         "1.0",
         "7927.79",
         "16091.64",
         "0",
         "0.0",
         "0.0"
        ],
        [
         "37",
         "44.0",
         "3.0",
         "5024.34",
         "0.0",
         "0",
         "0.0",
         "0.0"
        ],
        [
         "38",
         "52.0",
         "4.0",
         "909.88",
         "0.0",
         "0",
         "0.0",
         "0.0"
        ],
        [
         "39",
         "11.0",
         "0.0",
         "330.19",
         "0.0",
         "0",
         "0.0",
         "0.0"
        ],
        [
         "40",
         "34.0",
         "0.0",
         "479.58",
         "0.0",
         "0",
         "0.0",
         "0.0"
        ],
        [
         "41",
         "48.0",
         "1.0",
         "180.99",
         "0.0",
         "0",
         "0.0",
         "0.0"
        ],
        [
         "42",
         "110.0",
         "1.0",
         "3061.62",
         "0.0",
         "0",
         "0.0",
         "0.0"
        ],
        [
         "43",
         "102.0",
         "1.0",
         "1195.58",
         "0.0",
         "0",
         "0.0",
         "0.0"
        ],
        [
         "44",
         "29.0",
         "1.0",
         "0.25",
         "0.0",
         "0",
         "0.0",
         "0.0"
        ],
        [
         "45",
         "95.0",
         "3.0",
         "392.96",
         "18725.4",
         "0",
         "0.0",
         "0.0"
        ],
        [
         "47",
         "168.0",
         "3.0",
         "1921.27",
         "0.0",
         "0",
         "0.0",
         "0.0"
        ],
        [
         "48",
         "84.0",
         "0.0",
         "1677.55",
         "0.0",
         "0",
         "0.0",
         "2.0"
        ],
        [
         "49",
         "172.0",
         "1.0",
         "2934.36",
         "32561.89",
         "0",
         "0.0",
         "0.0"
        ],
        [
         "50",
         "32.0",
         "1.0",
         "846.44",
         "0.0",
         "0",
         "0.0",
         "0.0"
        ],
        [
         "51",
         "17.0",
         "0.0",
         "1586.51",
         "0.0",
         "0",
         "0.0",
         "7.5"
        ],
        [
         "52",
         "16.0",
         "0.0",
         "225.3",
         "0.0",
         "0",
         "0.0",
         "0.0"
        ],
        [
         "53",
         "11.0",
         "0.0",
         "591.01",
         "0.0",
         "0",
         "0.0",
         "0.0"
        ],
        [
         "54",
         "97.0",
         "1.0",
         "9894.27",
         "0.0",
         "0",
         "0.0",
         "1.0"
        ],
        [
         "55",
         "70.0",
         "1.0",
         "233.03",
         "2746.64",
         "0",
         "0.0",
         "0.0"
        ],
        [
         "56",
         "118.0",
         "1.0",
         "2494.0",
         "0.0",
         "0",
         "0.0",
         "0.0"
        ],
        [
         "57",
         "11.0",
         "0.0",
         "288.66",
         "0.0",
         "0",
         "0.0",
         "0.0"
        ],
        [
         "58",
         "127.0",
         "0.0",
         "930.51",
         "0.0",
         "1",
         "1.0",
         "0.5"
        ],
        [
         "59",
         "45.0",
         "3.0",
         "694.06",
         "0.0",
         "0",
         "0.0",
         "0.0"
        ],
        [
         "60",
         "50.0",
         "1.0",
         "3172.73",
         "0.0",
         "0",
         "0.0",
         "0.0"
        ]
       ],
       "shape": {
        "columns": 7,
        "rows": 4033
       }
      },
      "text/html": [
       "<div>\n",
       "<style scoped>\n",
       "    .dataframe tbody tr th:only-of-type {\n",
       "        vertical-align: middle;\n",
       "    }\n",
       "\n",
       "    .dataframe tbody tr th {\n",
       "        vertical-align: top;\n",
       "    }\n",
       "\n",
       "    .dataframe thead th {\n",
       "        text-align: right;\n",
       "    }\n",
       "</style>\n",
       "<table border=\"1\" class=\"dataframe\">\n",
       "  <thead>\n",
       "    <tr style=\"text-align: right;\">\n",
       "      <th></th>\n",
       "      <th>Antigüedad_Maxima</th>\n",
       "      <th>Nivel_Ingresos</th>\n",
       "      <th>Saldo_Pendiente</th>\n",
       "      <th>Saldo_Pendiente_Seg</th>\n",
       "      <th>Estado_Siniestro</th>\n",
       "      <th>Morosidad_semestral</th>\n",
       "      <th>Sinestros_semestrales</th>\n",
       "    </tr>\n",
       "  </thead>\n",
       "  <tbody>\n",
       "    <tr>\n",
       "      <th>0</th>\n",
       "      <td>44.0</td>\n",
       "      <td>1.0</td>\n",
       "      <td>604.86</td>\n",
       "      <td>0.0</td>\n",
       "      <td>0</td>\n",
       "      <td>0.0</td>\n",
       "      <td>0.0</td>\n",
       "    </tr>\n",
       "    <tr>\n",
       "      <th>1</th>\n",
       "      <td>79.0</td>\n",
       "      <td>1.0</td>\n",
       "      <td>1006.21</td>\n",
       "      <td>0.0</td>\n",
       "      <td>0</td>\n",
       "      <td>0.0</td>\n",
       "      <td>0.0</td>\n",
       "    </tr>\n",
       "    <tr>\n",
       "      <th>2</th>\n",
       "      <td>102.0</td>\n",
       "      <td>1.0</td>\n",
       "      <td>299.23</td>\n",
       "      <td>0.0</td>\n",
       "      <td>0</td>\n",
       "      <td>0.0</td>\n",
       "      <td>0.0</td>\n",
       "    </tr>\n",
       "    <tr>\n",
       "      <th>6</th>\n",
       "      <td>172.0</td>\n",
       "      <td>0.0</td>\n",
       "      <td>3517.07</td>\n",
       "      <td>0.0</td>\n",
       "      <td>0</td>\n",
       "      <td>0.0</td>\n",
       "      <td>0.0</td>\n",
       "    </tr>\n",
       "    <tr>\n",
       "      <th>7</th>\n",
       "      <td>76.0</td>\n",
       "      <td>1.0</td>\n",
       "      <td>216.52</td>\n",
       "      <td>0.0</td>\n",
       "      <td>0</td>\n",
       "      <td>0.0</td>\n",
       "      <td>0.5</td>\n",
       "    </tr>\n",
       "    <tr>\n",
       "      <th>...</th>\n",
       "      <td>...</td>\n",
       "      <td>...</td>\n",
       "      <td>...</td>\n",
       "      <td>...</td>\n",
       "      <td>...</td>\n",
       "      <td>...</td>\n",
       "      <td>...</td>\n",
       "    </tr>\n",
       "    <tr>\n",
       "      <th>4725</th>\n",
       "      <td>6.0</td>\n",
       "      <td>0.0</td>\n",
       "      <td>1602.11</td>\n",
       "      <td>0.0</td>\n",
       "      <td>0</td>\n",
       "      <td>0.0</td>\n",
       "      <td>0.0</td>\n",
       "    </tr>\n",
       "    <tr>\n",
       "      <th>4727</th>\n",
       "      <td>7.0</td>\n",
       "      <td>3.0</td>\n",
       "      <td>12002.39</td>\n",
       "      <td>0.0</td>\n",
       "      <td>0</td>\n",
       "      <td>0.0</td>\n",
       "      <td>0.0</td>\n",
       "    </tr>\n",
       "    <tr>\n",
       "      <th>4729</th>\n",
       "      <td>21.0</td>\n",
       "      <td>0.0</td>\n",
       "      <td>300.85</td>\n",
       "      <td>0.0</td>\n",
       "      <td>1</td>\n",
       "      <td>0.0</td>\n",
       "      <td>0.5</td>\n",
       "    </tr>\n",
       "    <tr>\n",
       "      <th>4730</th>\n",
       "      <td>25.0</td>\n",
       "      <td>1.0</td>\n",
       "      <td>3218.91</td>\n",
       "      <td>0.0</td>\n",
       "      <td>1</td>\n",
       "      <td>0.0</td>\n",
       "      <td>3.0</td>\n",
       "    </tr>\n",
       "    <tr>\n",
       "      <th>4731</th>\n",
       "      <td>6.0</td>\n",
       "      <td>0.0</td>\n",
       "      <td>849.97</td>\n",
       "      <td>0.0</td>\n",
       "      <td>1</td>\n",
       "      <td>0.0</td>\n",
       "      <td>0.0</td>\n",
       "    </tr>\n",
       "  </tbody>\n",
       "</table>\n",
       "<p>4033 rows × 7 columns</p>\n",
       "</div>"
      ],
      "text/plain": [
       "      Antigüedad_Maxima  Nivel_Ingresos  Saldo_Pendiente  Saldo_Pendiente_Seg  \\\n",
       "0                  44.0             1.0           604.86                  0.0   \n",
       "1                  79.0             1.0          1006.21                  0.0   \n",
       "2                 102.0             1.0           299.23                  0.0   \n",
       "6                 172.0             0.0          3517.07                  0.0   \n",
       "7                  76.0             1.0           216.52                  0.0   \n",
       "...                 ...             ...              ...                  ...   \n",
       "4725                6.0             0.0          1602.11                  0.0   \n",
       "4727                7.0             3.0         12002.39                  0.0   \n",
       "4729               21.0             0.0           300.85                  0.0   \n",
       "4730               25.0             1.0          3218.91                  0.0   \n",
       "4731                6.0             0.0           849.97                  0.0   \n",
       "\n",
       "      Estado_Siniestro  Morosidad_semestral  Sinestros_semestrales  \n",
       "0                    0                  0.0                    0.0  \n",
       "1                    0                  0.0                    0.0  \n",
       "2                    0                  0.0                    0.0  \n",
       "6                    0                  0.0                    0.0  \n",
       "7                    0                  0.0                    0.5  \n",
       "...                ...                  ...                    ...  \n",
       "4725                 0                  0.0                    0.0  \n",
       "4727                 0                  0.0                    0.0  \n",
       "4729                 1                  0.0                    0.5  \n",
       "4730                 1                  0.0                    3.0  \n",
       "4731                 1                  0.0                    0.0  \n",
       "\n",
       "[4033 rows x 7 columns]"
      ]
     },
     "execution_count": 11,
     "metadata": {},
     "output_type": "execute_result"
    }
   ],
   "source": [
    "df_nasupr_offi"
   ]
  },
  {
   "cell_type": "markdown",
   "metadata": {},
   "source": [
    "# Corregimos desbalanceo "
   ]
  },
  {
   "cell_type": "code",
   "execution_count": 12,
   "metadata": {},
   "outputs": [
    {
     "data": {
      "text/plain": [
       "Estado_Siniestro\n",
       "0    3605\n",
       "1     428\n",
       "Name: count, dtype: int64"
      ]
     },
     "execution_count": 12,
     "metadata": {},
     "output_type": "execute_result"
    }
   ],
   "source": [
    "df_nasupr_offi[\"Estado_Siniestro\"].value_counts() "
   ]
  },
  {
   "cell_type": "code",
   "execution_count": 13,
   "metadata": {},
   "outputs": [],
   "source": [
    "siniestradas = df_nasupr_offi[df_nasupr_offi[\"Estado_Siniestro\"] == 1]\n",
    "no_siniestradas = df_nasupr_offi[df_nasupr_offi[\"Estado_Siniestro\"] == 0]"
   ]
  },
  {
   "cell_type": "markdown",
   "metadata": {},
   "source": [
    "## Sobremuestreo (SMOTE)"
   ]
  },
  {
   "cell_type": "code",
   "execution_count": 14,
   "metadata": {},
   "outputs": [
    {
     "data": {
      "application/vnd.microsoft.datawrangler.viewer.v0+json": {
       "columns": [
        {
         "name": "index",
         "rawType": "int64",
         "type": "integer"
        },
        {
         "name": "Antigüedad_Maxima",
         "rawType": "float64",
         "type": "float"
        },
        {
         "name": "Nivel_Ingresos",
         "rawType": "float64",
         "type": "float"
        },
        {
         "name": "Saldo_Pendiente",
         "rawType": "float64",
         "type": "float"
        },
        {
         "name": "Saldo_Pendiente_Seg",
         "rawType": "float64",
         "type": "float"
        },
        {
         "name": "Estado_Siniestro",
         "rawType": "int64",
         "type": "integer"
        },
        {
         "name": "Morosidad_semestral",
         "rawType": "float64",
         "type": "float"
        },
        {
         "name": "Sinestros_semestrales",
         "rawType": "float64",
         "type": "float"
        }
       ],
       "conversionMethod": "pd.DataFrame",
       "ref": "fee50294-2259-4234-9efe-9d1033a86c29",
       "rows": [
        [
         "3865",
         "11.0",
         "0.0",
         "763.13",
         "0.0",
         "1",
         "1.0",
         "1.0"
        ],
        [
         "4164",
         "13.0",
         "0.0",
         "1086.93",
         "0.0",
         "1",
         "0.0",
         "0.0"
        ],
        [
         "3352",
         "76.0",
         "1.0",
         "8151.15",
         "53137.18",
         "1",
         "0.0",
         "0.0"
        ],
        [
         "1134",
         "34.0",
         "2.0",
         "1730.39",
         "0.0",
         "1",
         "0.0",
         "0.0"
        ],
        [
         "2566",
         "14.0",
         "1.0",
         "377.72",
         "0.0",
         "1",
         "0.5",
         "0.0"
        ],
        [
         "268",
         "49.0",
         "1.0",
         "4197.23",
         "0.0",
         "1",
         "0.0",
         "2.0"
        ],
        [
         "1062",
         "6.0",
         "1.0",
         "1738.81",
         "0.0",
         "1",
         "0.5",
         "4.0"
        ],
        [
         "1196",
         "19.0",
         "0.0",
         "484.59",
         "0.0",
         "1",
         "1.0",
         "1.5"
        ],
        [
         "1357",
         "63.0",
         "0.0",
         "2841.32",
         "0.0",
         "1",
         "1.0",
         "0.0"
        ],
        [
         "696",
         "22.0",
         "1.0",
         "2036.4",
         "0.0",
         "1",
         "1.0",
         "1.5"
        ],
        [
         "2245",
         "7.0",
         "2.0",
         "917.09",
         "0.0",
         "1",
         "0.0",
         "0.0"
        ],
        [
         "2512",
         "8.0",
         "1.0",
         "7842.56",
         "0.0",
         "1",
         "1.0",
         "5.5"
        ],
        [
         "1129",
         "13.0",
         "1.0",
         "1957.51",
         "0.0",
         "1",
         "1.0",
         "0.0"
        ],
        [
         "1297",
         "191.0",
         "1.0",
         "3179.27",
         "0.0",
         "1",
         "1.0",
         "0.0"
        ],
        [
         "1391",
         "15.0",
         "0.0",
         "3896.85",
         "0.0",
         "1",
         "3.0",
         "8.0"
        ],
        [
         "557",
         "35.0",
         "1.0",
         "2943.84",
         "0.0",
         "1",
         "0.0",
         "0.0"
        ],
        [
         "969",
         "12.0",
         "1.0",
         "939.08",
         "0.0",
         "1",
         "1.0",
         "0.0"
        ],
        [
         "368",
         "10.0",
         "0.0",
         "702.96",
         "0.0",
         "1",
         "0.0",
         "0.0"
        ],
        [
         "2495",
         "110.0",
         "1.0",
         "864.05",
         "0.0",
         "1",
         "0.0",
         "5.5"
        ],
        [
         "1223",
         "112.0",
         "1.0",
         "6738.92",
         "0.0",
         "1",
         "0.0",
         "0.0"
        ],
        [
         "4560",
         "11.0",
         "1.0",
         "2090.97",
         "0.0",
         "1",
         "1.0",
         "2.5"
        ],
        [
         "3582",
         "31.0",
         "0.0",
         "2214.8",
         "0.0",
         "1",
         "0.0",
         "0.0"
        ],
        [
         "3424",
         "16.0",
         "0.0",
         "824.0",
         "0.0",
         "1",
         "2.0",
         "7.0"
        ],
        [
         "2693",
         "9.0",
         "0.0",
         "465.46",
         "0.0",
         "1",
         "0.0",
         "0.0"
        ],
        [
         "4643",
         "9.0",
         "0.0",
         "465.53",
         "0.0",
         "1",
         "3.5",
         "5.0"
        ],
        [
         "1129",
         "13.0",
         "1.0",
         "1957.51",
         "0.0",
         "1",
         "1.0",
         "0.0"
        ],
        [
         "2219",
         "29.0",
         "0.0",
         "2064.83",
         "0.0",
         "1",
         "0.0",
         "0.0"
        ],
        [
         "875",
         "118.0",
         "4.0",
         "15576.62",
         "0.0",
         "1",
         "0.0",
         "0.0"
        ],
        [
         "3213",
         "6.0",
         "0.0",
         "2875.6",
         "0.0",
         "1",
         "1.0",
         "0.0"
        ],
        [
         "3278",
         "30.0",
         "0.0",
         "1326.06",
         "0.0",
         "1",
         "0.5",
         "0.0"
        ],
        [
         "140",
         "105.0",
         "1.0",
         "1840.91",
         "0.0",
         "1",
         "2.0",
         "2.5"
        ],
        [
         "3642",
         "20.0",
         "0.0",
         "912.57",
         "0.0",
         "1",
         "2.0",
         "3.0"
        ],
        [
         "484",
         "59.0",
         "0.0",
         "1314.5",
         "0.0",
         "1",
         "2.0",
         "2.0"
        ],
        [
         "3352",
         "76.0",
         "1.0",
         "8151.15",
         "53137.18",
         "1",
         "0.0",
         "0.0"
        ],
        [
         "1071",
         "14.0",
         "0.0",
         "929.27",
         "0.0",
         "1",
         "0.0",
         "0.0"
        ],
        [
         "557",
         "35.0",
         "1.0",
         "2943.84",
         "0.0",
         "1",
         "0.0",
         "0.0"
        ],
        [
         "1860",
         "13.0",
         "0.0",
         "1370.78",
         "0.0",
         "1",
         "1.0",
         "0.5"
        ],
        [
         "1473",
         "120.0",
         "1.0",
         "530.61",
         "0.0",
         "1",
         "0.0",
         "0.5"
        ],
        [
         "3824",
         "24.0",
         "0.0",
         "2722.24",
         "0.0",
         "1",
         "2.5",
         "39.5"
        ],
        [
         "1137",
         "22.0",
         "0.0",
         "274.94",
         "0.0",
         "1",
         "0.0",
         "0.0"
        ],
        [
         "4151",
         "29.0",
         "1.0",
         "8507.14",
         "0.0",
         "1",
         "0.0",
         "0.0"
        ],
        [
         "3741",
         "8.0",
         "0.0",
         "918.84",
         "0.0",
         "1",
         "0.0",
         "0.0"
        ],
        [
         "1878",
         "10.0",
         "0.0",
         "1390.56",
         "0.0",
         "1",
         "1.0",
         "0.5"
        ],
        [
         "3784",
         "11.0",
         "0.0",
         "1272.43",
         "0.0",
         "1",
         "1.0",
         "0.0"
        ],
        [
         "3765",
         "23.0",
         "0.0",
         "407.79",
         "0.0",
         "1",
         "1.0",
         "1.5"
        ],
        [
         "2231",
         "16.0",
         "0.0",
         "735.11",
         "0.0",
         "1",
         "0.0",
         "0.5"
        ],
        [
         "1328",
         "28.0",
         "0.0",
         "3078.45",
         "0.0",
         "1",
         "1.0",
         "3.0"
        ],
        [
         "3749",
         "25.0",
         "0.0",
         "898.02",
         "0.0",
         "1",
         "1.0",
         "1.0"
        ],
        [
         "4564",
         "11.0",
         "0.0",
         "2870.22",
         "0.0",
         "1",
         "0.5",
         "1.0"
        ],
        [
         "3031",
         "29.0",
         "1.0",
         "8.31",
         "0.0",
         "1",
         "0.0",
         "39.0"
        ]
       ],
       "shape": {
        "columns": 7,
        "rows": 3605
       }
      },
      "text/html": [
       "<div>\n",
       "<style scoped>\n",
       "    .dataframe tbody tr th:only-of-type {\n",
       "        vertical-align: middle;\n",
       "    }\n",
       "\n",
       "    .dataframe tbody tr th {\n",
       "        vertical-align: top;\n",
       "    }\n",
       "\n",
       "    .dataframe thead th {\n",
       "        text-align: right;\n",
       "    }\n",
       "</style>\n",
       "<table border=\"1\" class=\"dataframe\">\n",
       "  <thead>\n",
       "    <tr style=\"text-align: right;\">\n",
       "      <th></th>\n",
       "      <th>Antigüedad_Maxima</th>\n",
       "      <th>Nivel_Ingresos</th>\n",
       "      <th>Saldo_Pendiente</th>\n",
       "      <th>Saldo_Pendiente_Seg</th>\n",
       "      <th>Estado_Siniestro</th>\n",
       "      <th>Morosidad_semestral</th>\n",
       "      <th>Sinestros_semestrales</th>\n",
       "    </tr>\n",
       "  </thead>\n",
       "  <tbody>\n",
       "    <tr>\n",
       "      <th>3865</th>\n",
       "      <td>11.0</td>\n",
       "      <td>0.0</td>\n",
       "      <td>763.13</td>\n",
       "      <td>0.00</td>\n",
       "      <td>1</td>\n",
       "      <td>1.0</td>\n",
       "      <td>1.0</td>\n",
       "    </tr>\n",
       "    <tr>\n",
       "      <th>4164</th>\n",
       "      <td>13.0</td>\n",
       "      <td>0.0</td>\n",
       "      <td>1086.93</td>\n",
       "      <td>0.00</td>\n",
       "      <td>1</td>\n",
       "      <td>0.0</td>\n",
       "      <td>0.0</td>\n",
       "    </tr>\n",
       "    <tr>\n",
       "      <th>3352</th>\n",
       "      <td>76.0</td>\n",
       "      <td>1.0</td>\n",
       "      <td>8151.15</td>\n",
       "      <td>53137.18</td>\n",
       "      <td>1</td>\n",
       "      <td>0.0</td>\n",
       "      <td>0.0</td>\n",
       "    </tr>\n",
       "    <tr>\n",
       "      <th>1134</th>\n",
       "      <td>34.0</td>\n",
       "      <td>2.0</td>\n",
       "      <td>1730.39</td>\n",
       "      <td>0.00</td>\n",
       "      <td>1</td>\n",
       "      <td>0.0</td>\n",
       "      <td>0.0</td>\n",
       "    </tr>\n",
       "    <tr>\n",
       "      <th>2566</th>\n",
       "      <td>14.0</td>\n",
       "      <td>1.0</td>\n",
       "      <td>377.72</td>\n",
       "      <td>0.00</td>\n",
       "      <td>1</td>\n",
       "      <td>0.5</td>\n",
       "      <td>0.0</td>\n",
       "    </tr>\n",
       "    <tr>\n",
       "      <th>...</th>\n",
       "      <td>...</td>\n",
       "      <td>...</td>\n",
       "      <td>...</td>\n",
       "      <td>...</td>\n",
       "      <td>...</td>\n",
       "      <td>...</td>\n",
       "      <td>...</td>\n",
       "    </tr>\n",
       "    <tr>\n",
       "      <th>1879</th>\n",
       "      <td>14.0</td>\n",
       "      <td>2.0</td>\n",
       "      <td>789.23</td>\n",
       "      <td>0.00</td>\n",
       "      <td>1</td>\n",
       "      <td>0.0</td>\n",
       "      <td>0.0</td>\n",
       "    </tr>\n",
       "    <tr>\n",
       "      <th>2067</th>\n",
       "      <td>107.0</td>\n",
       "      <td>1.0</td>\n",
       "      <td>4468.03</td>\n",
       "      <td>0.00</td>\n",
       "      <td>1</td>\n",
       "      <td>1.0</td>\n",
       "      <td>1.0</td>\n",
       "    </tr>\n",
       "    <tr>\n",
       "      <th>535</th>\n",
       "      <td>16.0</td>\n",
       "      <td>0.0</td>\n",
       "      <td>522.02</td>\n",
       "      <td>0.00</td>\n",
       "      <td>1</td>\n",
       "      <td>2.5</td>\n",
       "      <td>1.5</td>\n",
       "    </tr>\n",
       "    <tr>\n",
       "      <th>4715</th>\n",
       "      <td>6.0</td>\n",
       "      <td>2.0</td>\n",
       "      <td>598.04</td>\n",
       "      <td>0.00</td>\n",
       "      <td>1</td>\n",
       "      <td>0.0</td>\n",
       "      <td>1.0</td>\n",
       "    </tr>\n",
       "    <tr>\n",
       "      <th>1402</th>\n",
       "      <td>48.0</td>\n",
       "      <td>1.0</td>\n",
       "      <td>959.37</td>\n",
       "      <td>0.00</td>\n",
       "      <td>1</td>\n",
       "      <td>0.0</td>\n",
       "      <td>0.0</td>\n",
       "    </tr>\n",
       "  </tbody>\n",
       "</table>\n",
       "<p>3605 rows × 7 columns</p>\n",
       "</div>"
      ],
      "text/plain": [
       "      Antigüedad_Maxima  Nivel_Ingresos  Saldo_Pendiente  Saldo_Pendiente_Seg  \\\n",
       "3865               11.0             0.0           763.13                 0.00   \n",
       "4164               13.0             0.0          1086.93                 0.00   \n",
       "3352               76.0             1.0          8151.15             53137.18   \n",
       "1134               34.0             2.0          1730.39                 0.00   \n",
       "2566               14.0             1.0           377.72                 0.00   \n",
       "...                 ...             ...              ...                  ...   \n",
       "1879               14.0             2.0           789.23                 0.00   \n",
       "2067              107.0             1.0          4468.03                 0.00   \n",
       "535                16.0             0.0           522.02                 0.00   \n",
       "4715                6.0             2.0           598.04                 0.00   \n",
       "1402               48.0             1.0           959.37                 0.00   \n",
       "\n",
       "      Estado_Siniestro  Morosidad_semestral  Sinestros_semestrales  \n",
       "3865                 1                  1.0                    1.0  \n",
       "4164                 1                  0.0                    0.0  \n",
       "3352                 1                  0.0                    0.0  \n",
       "1134                 1                  0.0                    0.0  \n",
       "2566                 1                  0.5                    0.0  \n",
       "...                ...                  ...                    ...  \n",
       "1879                 1                  0.0                    0.0  \n",
       "2067                 1                  1.0                    1.0  \n",
       "535                  1                  2.5                    1.5  \n",
       "4715                 1                  0.0                    1.0  \n",
       "1402                 1                  0.0                    0.0  \n",
       "\n",
       "[3605 rows x 7 columns]"
      ]
     },
     "execution_count": 14,
     "metadata": {},
     "output_type": "execute_result"
    }
   ],
   "source": [
    "sobre_muestrosiniestro = siniestradas.sample( n = 3605, replace = True, random_state = 123)\n",
    "sobre_muestrosiniestro"
   ]
  },
  {
   "cell_type": "code",
   "execution_count": 15,
   "metadata": {},
   "outputs": [],
   "source": [
    "df_oversampling = pd.concat([sobre_muestrosiniestro,no_siniestradas])\n"
   ]
  },
  {
   "cell_type": "markdown",
   "metadata": {},
   "source": [
    "## SUBMUESTREO"
   ]
  },
  {
   "cell_type": "code",
   "execution_count": 16,
   "metadata": {},
   "outputs": [
    {
     "data": {
      "application/vnd.microsoft.datawrangler.viewer.v0+json": {
       "columns": [
        {
         "name": "index",
         "rawType": "int64",
         "type": "integer"
        },
        {
         "name": "Antigüedad_Maxima",
         "rawType": "float64",
         "type": "float"
        },
        {
         "name": "Nivel_Ingresos",
         "rawType": "float64",
         "type": "float"
        },
        {
         "name": "Saldo_Pendiente",
         "rawType": "float64",
         "type": "float"
        },
        {
         "name": "Saldo_Pendiente_Seg",
         "rawType": "float64",
         "type": "float"
        },
        {
         "name": "Estado_Siniestro",
         "rawType": "int64",
         "type": "integer"
        },
        {
         "name": "Morosidad_semestral",
         "rawType": "float64",
         "type": "float"
        },
        {
         "name": "Sinestros_semestrales",
         "rawType": "float64",
         "type": "float"
        }
       ],
       "conversionMethod": "pd.DataFrame",
       "ref": "75ae1b3d-5c69-40b2-bfce-d68656c6906c",
       "rows": [
        [
         "2022",
         "12.0",
         "0.0",
         "527.7",
         "0.0",
         "0",
         "0.0",
         "0.0"
        ],
        [
         "3131",
         "9.0",
         "1.0",
         "21113.98",
         "0.0",
         "0",
         "0.0",
         "0.0"
        ],
        [
         "2907",
         "27.0",
         "4.0",
         "44905.4",
         "0.0",
         "0",
         "0.0",
         "0.0"
        ],
        [
         "595",
         "10.0",
         "0.0",
         "1777.38",
         "0.0",
         "0",
         "0.0",
         "0.0"
        ],
        [
         "729",
         "29.0",
         "0.0",
         "0.13",
         "0.0",
         "0",
         "0.0",
         "4.0"
        ],
        [
         "4274",
         "14.0",
         "0.0",
         "0.77",
         "0.0",
         "0",
         "0.0",
         "0.0"
        ],
        [
         "1747",
         "134.0",
         "1.0",
         "1230.37",
         "0.0",
         "0",
         "0.0",
         "0.0"
        ],
        [
         "1894",
         "7.0",
         "1.0",
         "1636.73",
         "0.0",
         "0",
         "0.5",
         "0.0"
        ],
        [
         "4256",
         "18.0",
         "0.0",
         "770.6",
         "0.0",
         "0",
         "0.0",
         "1.0"
        ],
        [
         "4377",
         "77.0",
         "1.0",
         "546.86",
         "0.0",
         "0",
         "0.0",
         "0.0"
        ],
        [
         "3945",
         "87.0",
         "1.0",
         "5918.57",
         "0.0",
         "0",
         "0.0",
         "0.0"
        ],
        [
         "3092",
         "60.0",
         "0.0",
         "943.12",
         "0.0",
         "0",
         "0.0",
         "0.0"
        ],
        [
         "4669",
         "57.0",
         "2.0",
         "3929.23",
         "0.0",
         "0",
         "0.0",
         "0.0"
        ],
        [
         "177",
         "34.0",
         "0.0",
         "1606.87",
         "0.0",
         "0",
         "0.0",
         "0.0"
        ],
        [
         "1570",
         "183.0",
         "0.0",
         "3833.79",
         "0.0",
         "0",
         "0.0",
         "0.0"
        ],
        [
         "2278",
         "61.0",
         "1.0",
         "1103.02",
         "0.0",
         "0",
         "0.0",
         "0.0"
        ],
        [
         "244",
         "49.0",
         "1.0",
         "1056.47",
         "0.0",
         "0",
         "0.0",
         "0.0"
        ],
        [
         "4225",
         "47.0",
         "3.0",
         "302.19",
         "0.0",
         "0",
         "0.0",
         "0.0"
        ],
        [
         "865",
         "107.0",
         "3.0",
         "5855.34",
         "0.0",
         "0",
         "0.0",
         "0.0"
        ],
        [
         "3142",
         "7.0",
         "3.0",
         "1724.01",
         "0.0",
         "0",
         "0.0",
         "0.0"
        ],
        [
         "4054",
         "92.0",
         "4.0",
         "10.0",
         "0.0",
         "0",
         "0.0",
         "0.0"
        ],
        [
         "1162",
         "160.0",
         "0.0",
         "323.44",
         "0.0",
         "0",
         "0.0",
         "0.0"
        ],
        [
         "4224",
         "25.0",
         "1.0",
         "2671.67",
         "0.0",
         "0",
         "0.0",
         "0.0"
        ],
        [
         "3479",
         "189.0",
         "5.0",
         "2076.04",
         "42024.41",
         "0",
         "0.0",
         "0.0"
        ],
        [
         "2208",
         "32.0",
         "1.0",
         "1655.06",
         "0.0",
         "0",
         "0.0",
         "0.0"
        ],
        [
         "1153",
         "104.0",
         "0.0",
         "1426.09",
         "0.0",
         "0",
         "0.0",
         "0.0"
        ],
        [
         "1066",
         "71.0",
         "1.0",
         "1058.73",
         "42186.17",
         "0",
         "0.0",
         "0.0"
        ],
        [
         "1442",
         "59.0",
         "3.0",
         "1864.75",
         "0.0",
         "0",
         "0.0",
         "0.0"
        ],
        [
         "4336",
         "95.0",
         "3.0",
         "17453.58",
         "0.0",
         "0",
         "0.0",
         "0.0"
        ],
        [
         "4675",
         "37.0",
         "2.0",
         "760.6",
         "0.0",
         "0",
         "0.0",
         "0.0"
        ],
        [
         "1063",
         "7.0",
         "0.0",
         "636.34",
         "0.0",
         "0",
         "0.0",
         "0.0"
        ],
        [
         "3384",
         "17.0",
         "1.0",
         "424.17",
         "0.0",
         "0",
         "0.0",
         "0.0"
        ],
        [
         "101",
         "52.0",
         "3.0",
         "190.73",
         "77687.77",
         "0",
         "0.0",
         "0.0"
        ],
        [
         "2254",
         "12.0",
         "0.0",
         "209.15",
         "0.0",
         "0",
         "0.0",
         "0.0"
        ],
        [
         "2243",
         "7.0",
         "0.0",
         "3987.18",
         "0.0",
         "0",
         "0.0",
         "0.0"
        ],
        [
         "2606",
         "14.0",
         "0.0",
         "423.55",
         "0.0",
         "0",
         "0.0",
         "0.0"
        ],
        [
         "1783",
         "85.0",
         "1.0",
         "12448.02",
         "0.0",
         "0",
         "0.0",
         "0.0"
        ],
        [
         "3263",
         "81.0",
         "1.0",
         "644.42",
         "0.0",
         "0",
         "0.0",
         "0.0"
        ],
        [
         "946",
         "30.0",
         "1.0",
         "1710.69",
         "0.0",
         "0",
         "0.0",
         "0.0"
        ],
        [
         "4009",
         "150.0",
         "0.0",
         "1874.65",
         "0.0",
         "0",
         "0.0",
         "0.0"
        ],
        [
         "804",
         "43.0",
         "0.0",
         "546.28",
         "7894.07",
         "0",
         "0.0",
         "1.0"
        ],
        [
         "4528",
         "18.0",
         "2.0",
         "6.46",
         "0.0",
         "0",
         "0.0",
         "0.0"
        ],
        [
         "1838",
         "75.0",
         "2.0",
         "456.01",
         "0.0",
         "0",
         "0.0",
         "0.0"
        ],
        [
         "1683",
         "77.0",
         "3.0",
         "1779.79",
         "0.0",
         "0",
         "0.0",
         "0.0"
        ],
        [
         "4541",
         "25.0",
         "1.0",
         "1453.18",
         "0.0",
         "0",
         "0.0",
         "0.0"
        ],
        [
         "3373",
         "32.0",
         "1.0",
         "53.01",
         "0.0",
         "0",
         "0.0",
         "0.0"
        ],
        [
         "4136",
         "76.0",
         "1.0",
         "166.39",
         "0.0",
         "0",
         "0.0",
         "0.0"
        ],
        [
         "3938",
         "125.0",
         "0.0",
         "171.98",
         "0.0",
         "0",
         "0.0",
         "0.0"
        ],
        [
         "3962",
         "33.0",
         "3.0",
         "7932.77",
         "0.0",
         "0",
         "0.0",
         "0.0"
        ],
        [
         "2319",
         "151.0",
         "0.0",
         "1128.49",
         "0.0",
         "0",
         "0.0",
         "0.0"
        ]
       ],
       "shape": {
        "columns": 7,
        "rows": 428
       }
      },
      "text/html": [
       "<div>\n",
       "<style scoped>\n",
       "    .dataframe tbody tr th:only-of-type {\n",
       "        vertical-align: middle;\n",
       "    }\n",
       "\n",
       "    .dataframe tbody tr th {\n",
       "        vertical-align: top;\n",
       "    }\n",
       "\n",
       "    .dataframe thead th {\n",
       "        text-align: right;\n",
       "    }\n",
       "</style>\n",
       "<table border=\"1\" class=\"dataframe\">\n",
       "  <thead>\n",
       "    <tr style=\"text-align: right;\">\n",
       "      <th></th>\n",
       "      <th>Antigüedad_Maxima</th>\n",
       "      <th>Nivel_Ingresos</th>\n",
       "      <th>Saldo_Pendiente</th>\n",
       "      <th>Saldo_Pendiente_Seg</th>\n",
       "      <th>Estado_Siniestro</th>\n",
       "      <th>Morosidad_semestral</th>\n",
       "      <th>Sinestros_semestrales</th>\n",
       "    </tr>\n",
       "  </thead>\n",
       "  <tbody>\n",
       "    <tr>\n",
       "      <th>2022</th>\n",
       "      <td>12.0</td>\n",
       "      <td>0.0</td>\n",
       "      <td>527.70</td>\n",
       "      <td>0.00</td>\n",
       "      <td>0</td>\n",
       "      <td>0.0</td>\n",
       "      <td>0.0</td>\n",
       "    </tr>\n",
       "    <tr>\n",
       "      <th>3131</th>\n",
       "      <td>9.0</td>\n",
       "      <td>1.0</td>\n",
       "      <td>21113.98</td>\n",
       "      <td>0.00</td>\n",
       "      <td>0</td>\n",
       "      <td>0.0</td>\n",
       "      <td>0.0</td>\n",
       "    </tr>\n",
       "    <tr>\n",
       "      <th>2907</th>\n",
       "      <td>27.0</td>\n",
       "      <td>4.0</td>\n",
       "      <td>44905.40</td>\n",
       "      <td>0.00</td>\n",
       "      <td>0</td>\n",
       "      <td>0.0</td>\n",
       "      <td>0.0</td>\n",
       "    </tr>\n",
       "    <tr>\n",
       "      <th>595</th>\n",
       "      <td>10.0</td>\n",
       "      <td>0.0</td>\n",
       "      <td>1777.38</td>\n",
       "      <td>0.00</td>\n",
       "      <td>0</td>\n",
       "      <td>0.0</td>\n",
       "      <td>0.0</td>\n",
       "    </tr>\n",
       "    <tr>\n",
       "      <th>729</th>\n",
       "      <td>29.0</td>\n",
       "      <td>0.0</td>\n",
       "      <td>0.13</td>\n",
       "      <td>0.00</td>\n",
       "      <td>0</td>\n",
       "      <td>0.0</td>\n",
       "      <td>4.0</td>\n",
       "    </tr>\n",
       "    <tr>\n",
       "      <th>...</th>\n",
       "      <td>...</td>\n",
       "      <td>...</td>\n",
       "      <td>...</td>\n",
       "      <td>...</td>\n",
       "      <td>...</td>\n",
       "      <td>...</td>\n",
       "      <td>...</td>\n",
       "    </tr>\n",
       "    <tr>\n",
       "      <th>605</th>\n",
       "      <td>25.0</td>\n",
       "      <td>1.0</td>\n",
       "      <td>845.17</td>\n",
       "      <td>0.00</td>\n",
       "      <td>0</td>\n",
       "      <td>0.0</td>\n",
       "      <td>0.0</td>\n",
       "    </tr>\n",
       "    <tr>\n",
       "      <th>4648</th>\n",
       "      <td>58.0</td>\n",
       "      <td>2.0</td>\n",
       "      <td>6792.68</td>\n",
       "      <td>52758.18</td>\n",
       "      <td>0</td>\n",
       "      <td>0.0</td>\n",
       "      <td>0.0</td>\n",
       "    </tr>\n",
       "    <tr>\n",
       "      <th>532</th>\n",
       "      <td>20.0</td>\n",
       "      <td>0.0</td>\n",
       "      <td>990.16</td>\n",
       "      <td>0.00</td>\n",
       "      <td>0</td>\n",
       "      <td>0.0</td>\n",
       "      <td>1.0</td>\n",
       "    </tr>\n",
       "    <tr>\n",
       "      <th>3021</th>\n",
       "      <td>49.0</td>\n",
       "      <td>0.0</td>\n",
       "      <td>792.54</td>\n",
       "      <td>0.00</td>\n",
       "      <td>0</td>\n",
       "      <td>0.0</td>\n",
       "      <td>0.0</td>\n",
       "    </tr>\n",
       "    <tr>\n",
       "      <th>2078</th>\n",
       "      <td>15.0</td>\n",
       "      <td>0.0</td>\n",
       "      <td>0.77</td>\n",
       "      <td>0.00</td>\n",
       "      <td>0</td>\n",
       "      <td>0.5</td>\n",
       "      <td>0.0</td>\n",
       "    </tr>\n",
       "  </tbody>\n",
       "</table>\n",
       "<p>428 rows × 7 columns</p>\n",
       "</div>"
      ],
      "text/plain": [
       "      Antigüedad_Maxima  Nivel_Ingresos  Saldo_Pendiente  Saldo_Pendiente_Seg  \\\n",
       "2022               12.0             0.0           527.70                 0.00   \n",
       "3131                9.0             1.0         21113.98                 0.00   \n",
       "2907               27.0             4.0         44905.40                 0.00   \n",
       "595                10.0             0.0          1777.38                 0.00   \n",
       "729                29.0             0.0             0.13                 0.00   \n",
       "...                 ...             ...              ...                  ...   \n",
       "605                25.0             1.0           845.17                 0.00   \n",
       "4648               58.0             2.0          6792.68             52758.18   \n",
       "532                20.0             0.0           990.16                 0.00   \n",
       "3021               49.0             0.0           792.54                 0.00   \n",
       "2078               15.0             0.0             0.77                 0.00   \n",
       "\n",
       "      Estado_Siniestro  Morosidad_semestral  Sinestros_semestrales  \n",
       "2022                 0                  0.0                    0.0  \n",
       "3131                 0                  0.0                    0.0  \n",
       "2907                 0                  0.0                    0.0  \n",
       "595                  0                  0.0                    0.0  \n",
       "729                  0                  0.0                    4.0  \n",
       "...                ...                  ...                    ...  \n",
       "605                  0                  0.0                    0.0  \n",
       "4648                 0                  0.0                    0.0  \n",
       "532                  0                  0.0                    1.0  \n",
       "3021                 0                  0.0                    0.0  \n",
       "2078                 0                  0.5                    0.0  \n",
       "\n",
       "[428 rows x 7 columns]"
      ]
     },
     "execution_count": 16,
     "metadata": {},
     "output_type": "execute_result"
    }
   ],
   "source": [
    "submuestreo_no_siniestro = no_siniestradas.sample(n = 428,replace = False, random_state = 123)\n",
    "submuestreo_no_siniestro"
   ]
  },
  {
   "cell_type": "code",
   "execution_count": 17,
   "metadata": {},
   "outputs": [],
   "source": [
    "df_undersampling = pd.concat([siniestradas,submuestreo_no_siniestro])\n",
    "df_undersampling.drop(\"Saldo_Pendiente_Seg\",axis=1,inplace=True)\n",
    "df_undersampling.drop(\"Saldo_Pendiente\",axis=1,inplace=True)\n",
    "df_undersampling.drop(\"Antigüedad_Maxima\",axis=1,inplace=True)"
   ]
  },
  {
   "cell_type": "code",
   "execution_count": 18,
   "metadata": {},
   "outputs": [
    {
     "data": {
      "application/vnd.microsoft.datawrangler.viewer.v0+json": {
       "columns": [
        {
         "name": "index",
         "rawType": "object",
         "type": "string"
        },
        {
         "name": "Nivel_Ingresos",
         "rawType": "float64",
         "type": "float"
        },
        {
         "name": "Estado_Siniestro",
         "rawType": "float64",
         "type": "float"
        },
        {
         "name": "Morosidad_semestral",
         "rawType": "float64",
         "type": "float"
        },
        {
         "name": "Sinestros_semestrales",
         "rawType": "float64",
         "type": "float"
        }
       ],
       "conversionMethod": "pd.DataFrame",
       "ref": "cc1ddffc-f5e0-4a07-bf4a-28d4ef55f358",
       "rows": [
        [
         "Nivel_Ingresos",
         "1.0",
         "-0.2705413025706198",
         "-0.23005646090661125",
         "-0.17370153530869523"
        ],
        [
         "Estado_Siniestro",
         "-0.2705413025706198",
         "1.0",
         "0.5372702535264635",
         "0.5380219250099119"
        ],
        [
         "Morosidad_semestral",
         "-0.23005646090661125",
         "0.5372702535264635",
         "1.0",
         "0.6018042812028068"
        ],
        [
         "Sinestros_semestrales",
         "-0.17370153530869523",
         "0.5380219250099119",
         "0.6018042812028068",
         "1.0"
        ]
       ],
       "shape": {
        "columns": 4,
        "rows": 4
       }
      },
      "text/html": [
       "<div>\n",
       "<style scoped>\n",
       "    .dataframe tbody tr th:only-of-type {\n",
       "        vertical-align: middle;\n",
       "    }\n",
       "\n",
       "    .dataframe tbody tr th {\n",
       "        vertical-align: top;\n",
       "    }\n",
       "\n",
       "    .dataframe thead th {\n",
       "        text-align: right;\n",
       "    }\n",
       "</style>\n",
       "<table border=\"1\" class=\"dataframe\">\n",
       "  <thead>\n",
       "    <tr style=\"text-align: right;\">\n",
       "      <th></th>\n",
       "      <th>Nivel_Ingresos</th>\n",
       "      <th>Estado_Siniestro</th>\n",
       "      <th>Morosidad_semestral</th>\n",
       "      <th>Sinestros_semestrales</th>\n",
       "    </tr>\n",
       "  </thead>\n",
       "  <tbody>\n",
       "    <tr>\n",
       "      <th>Nivel_Ingresos</th>\n",
       "      <td>1.000000</td>\n",
       "      <td>-0.270541</td>\n",
       "      <td>-0.230056</td>\n",
       "      <td>-0.173702</td>\n",
       "    </tr>\n",
       "    <tr>\n",
       "      <th>Estado_Siniestro</th>\n",
       "      <td>-0.270541</td>\n",
       "      <td>1.000000</td>\n",
       "      <td>0.537270</td>\n",
       "      <td>0.538022</td>\n",
       "    </tr>\n",
       "    <tr>\n",
       "      <th>Morosidad_semestral</th>\n",
       "      <td>-0.230056</td>\n",
       "      <td>0.537270</td>\n",
       "      <td>1.000000</td>\n",
       "      <td>0.601804</td>\n",
       "    </tr>\n",
       "    <tr>\n",
       "      <th>Sinestros_semestrales</th>\n",
       "      <td>-0.173702</td>\n",
       "      <td>0.538022</td>\n",
       "      <td>0.601804</td>\n",
       "      <td>1.000000</td>\n",
       "    </tr>\n",
       "  </tbody>\n",
       "</table>\n",
       "</div>"
      ],
      "text/plain": [
       "                       Nivel_Ingresos  Estado_Siniestro  Morosidad_semestral  \\\n",
       "Nivel_Ingresos               1.000000         -0.270541            -0.230056   \n",
       "Estado_Siniestro            -0.270541          1.000000             0.537270   \n",
       "Morosidad_semestral         -0.230056          0.537270             1.000000   \n",
       "Sinestros_semestrales       -0.173702          0.538022             0.601804   \n",
       "\n",
       "                       Sinestros_semestrales  \n",
       "Nivel_Ingresos                     -0.173702  \n",
       "Estado_Siniestro                    0.538022  \n",
       "Morosidad_semestral                 0.601804  \n",
       "Sinestros_semestrales               1.000000  "
      ]
     },
     "execution_count": 18,
     "metadata": {},
     "output_type": "execute_result"
    }
   ],
   "source": [
    "df_undersampling.corr(method='spearman')"
   ]
  },
  {
   "cell_type": "markdown",
   "metadata": {},
   "source": [
    "### Divisiòn del conjunto de datos"
   ]
  },
  {
   "cell_type": "code",
   "execution_count": 19,
   "metadata": {},
   "outputs": [],
   "source": [
    "from sklearn.model_selection import train_test_split\n",
    "\n",
    "train_df, test_df = train_test_split(df_undersampling, test_size=0.3, random_state=42,stratify=df_undersampling['Estado_Siniestro'])"
   ]
  },
  {
   "cell_type": "code",
   "execution_count": 20,
   "metadata": {},
   "outputs": [],
   "source": [
    "val_df, test_df = train_test_split(test_df, test_size=0.5, random_state=42,stratify=test_df['Estado_Siniestro'])"
   ]
  },
  {
   "cell_type": "code",
   "execution_count": 21,
   "metadata": {},
   "outputs": [
    {
     "data": {
      "application/vnd.microsoft.datawrangler.viewer.v0+json": {
       "columns": [
        {
         "name": "index",
         "rawType": "int64",
         "type": "integer"
        },
        {
         "name": "Nivel_Ingresos",
         "rawType": "float64",
         "type": "float"
        },
        {
         "name": "Estado_Siniestro",
         "rawType": "int64",
         "type": "integer"
        },
        {
         "name": "Morosidad_semestral",
         "rawType": "float64",
         "type": "float"
        },
        {
         "name": "Sinestros_semestrales",
         "rawType": "float64",
         "type": "float"
        }
       ],
       "conversionMethod": "pd.DataFrame",
       "ref": "621278e7-08bf-4750-9c7c-cb4541a54c68",
       "rows": [
        [
         "3295",
         "1.0",
         "1",
         "0.0",
         "0.5"
        ],
        [
         "3513",
         "0.0",
         "0",
         "0.0",
         "0.0"
        ],
        [
         "2173",
         "0.0",
         "1",
         "1.0",
         "0.0"
        ],
        [
         "4534",
         "1.0",
         "0",
         "0.0",
         "0.0"
        ],
        [
         "3272",
         "1.0",
         "1",
         "0.0",
         "6.0"
        ],
        [
         "2311",
         "0.0",
         "0",
         "0.0",
         "0.0"
        ],
        [
         "1196",
         "0.0",
         "1",
         "1.0",
         "1.5"
        ],
        [
         "4619",
         "1.0",
         "1",
         "0.0",
         "0.0"
        ],
        [
         "3360",
         "1.0",
         "1",
         "2.0",
         "2.0"
        ],
        [
         "781",
         "0.0",
         "0",
         "0.0",
         "0.0"
        ],
        [
         "1687",
         "0.0",
         "0",
         "0.0",
         "0.0"
        ],
        [
         "1025",
         "0.0",
         "0",
         "0.0",
         "0.0"
        ],
        [
         "1458",
         "0.0",
         "0",
         "0.0",
         "0.0"
        ],
        [
         "2156",
         "1.0",
         "0",
         "0.0",
         "0.0"
        ],
        [
         "3033",
         "0.0",
         "1",
         "1.0",
         "1.0"
        ],
        [
         "3338",
         "1.0",
         "1",
         "0.0",
         "1.0"
        ],
        [
         "1153",
         "0.0",
         "0",
         "0.0",
         "0.0"
        ],
        [
         "3094",
         "1.0",
         "1",
         "1.0",
         "1.0"
        ],
        [
         "3807",
         "3.0",
         "1",
         "1.0",
         "4.0"
        ],
        [
         "4156",
         "1.0",
         "1",
         "0.0",
         "0.5"
        ],
        [
         "1340",
         "1.0",
         "1",
         "0.0",
         "0.0"
        ],
        [
         "3278",
         "0.0",
         "1",
         "0.5",
         "0.0"
        ],
        [
         "1061",
         "0.0",
         "0",
         "0.0",
         "0.0"
        ],
        [
         "2898",
         "0.0",
         "0",
         "0.0",
         "0.5"
        ],
        [
         "2085",
         "1.0",
         "0",
         "0.0",
         "0.0"
        ],
        [
         "2993",
         "0.0",
         "1",
         "1.0",
         "1.0"
        ],
        [
         "29",
         "1.0",
         "0",
         "0.0",
         "0.0"
        ],
        [
         "946",
         "1.0",
         "0",
         "0.0",
         "0.0"
        ],
        [
         "4004",
         "1.0",
         "1",
         "2.0",
         "1.5"
        ],
        [
         "4671",
         "2.0",
         "0",
         "0.0",
         "0.0"
        ],
        [
         "35",
         "5.0",
         "0",
         "0.0",
         "0.0"
        ],
        [
         "3395",
         "1.0",
         "1",
         "0.0",
         "3.0"
        ],
        [
         "2802",
         "0.0",
         "0",
         "0.5",
         "0.0"
        ],
        [
         "1376",
         "0.0",
         "0",
         "0.0",
         "0.0"
        ],
        [
         "2241",
         "4.0",
         "0",
         "0.0",
         "0.0"
        ],
        [
         "2201",
         "1.0",
         "0",
         "0.0",
         "0.0"
        ],
        [
         "1402",
         "1.0",
         "1",
         "0.0",
         "0.0"
        ],
        [
         "2688",
         "4.0",
         "0",
         "0.0",
         "0.0"
        ],
        [
         "1278",
         "5.0",
         "0",
         "0.0",
         "0.0"
        ],
        [
         "1783",
         "1.0",
         "0",
         "0.0",
         "0.0"
        ],
        [
         "2334",
         "4.0",
         "0",
         "0.0",
         "0.5"
        ],
        [
         "928",
         "1.0",
         "0",
         "0.0",
         "0.0"
        ],
        [
         "383",
         "5.0",
         "0",
         "0.0",
         "0.0"
        ],
        [
         "2829",
         "3.0",
         "0",
         "0.0",
         "1.0"
        ],
        [
         "4265",
         "0.0",
         "1",
         "1.0",
         "0.0"
        ],
        [
         "3777",
         "0.0",
         "1",
         "1.5",
         "0.0"
        ],
        [
         "3070",
         "5.0",
         "0",
         "0.0",
         "0.0"
        ],
        [
         "3629",
         "0.0",
         "0",
         "0.0",
         "0.0"
        ],
        [
         "4452",
         "4.0",
         "0",
         "0.0",
         "0.0"
        ],
        [
         "3816",
         "0.0",
         "1",
         "0.0",
         "1.0"
        ]
       ],
       "shape": {
        "columns": 4,
        "rows": 599
       }
      },
      "text/html": [
       "<div>\n",
       "<style scoped>\n",
       "    .dataframe tbody tr th:only-of-type {\n",
       "        vertical-align: middle;\n",
       "    }\n",
       "\n",
       "    .dataframe tbody tr th {\n",
       "        vertical-align: top;\n",
       "    }\n",
       "\n",
       "    .dataframe thead th {\n",
       "        text-align: right;\n",
       "    }\n",
       "</style>\n",
       "<table border=\"1\" class=\"dataframe\">\n",
       "  <thead>\n",
       "    <tr style=\"text-align: right;\">\n",
       "      <th></th>\n",
       "      <th>Nivel_Ingresos</th>\n",
       "      <th>Estado_Siniestro</th>\n",
       "      <th>Morosidad_semestral</th>\n",
       "      <th>Sinestros_semestrales</th>\n",
       "    </tr>\n",
       "  </thead>\n",
       "  <tbody>\n",
       "    <tr>\n",
       "      <th>3295</th>\n",
       "      <td>1.0</td>\n",
       "      <td>1</td>\n",
       "      <td>0.0</td>\n",
       "      <td>0.5</td>\n",
       "    </tr>\n",
       "    <tr>\n",
       "      <th>3513</th>\n",
       "      <td>0.0</td>\n",
       "      <td>0</td>\n",
       "      <td>0.0</td>\n",
       "      <td>0.0</td>\n",
       "    </tr>\n",
       "    <tr>\n",
       "      <th>2173</th>\n",
       "      <td>0.0</td>\n",
       "      <td>1</td>\n",
       "      <td>1.0</td>\n",
       "      <td>0.0</td>\n",
       "    </tr>\n",
       "    <tr>\n",
       "      <th>4534</th>\n",
       "      <td>1.0</td>\n",
       "      <td>0</td>\n",
       "      <td>0.0</td>\n",
       "      <td>0.0</td>\n",
       "    </tr>\n",
       "    <tr>\n",
       "      <th>3272</th>\n",
       "      <td>1.0</td>\n",
       "      <td>1</td>\n",
       "      <td>0.0</td>\n",
       "      <td>6.0</td>\n",
       "    </tr>\n",
       "    <tr>\n",
       "      <th>...</th>\n",
       "      <td>...</td>\n",
       "      <td>...</td>\n",
       "      <td>...</td>\n",
       "      <td>...</td>\n",
       "    </tr>\n",
       "    <tr>\n",
       "      <th>1073</th>\n",
       "      <td>1.0</td>\n",
       "      <td>0</td>\n",
       "      <td>0.0</td>\n",
       "      <td>0.0</td>\n",
       "    </tr>\n",
       "    <tr>\n",
       "      <th>328</th>\n",
       "      <td>1.0</td>\n",
       "      <td>1</td>\n",
       "      <td>1.0</td>\n",
       "      <td>1.5</td>\n",
       "    </tr>\n",
       "    <tr>\n",
       "      <th>1590</th>\n",
       "      <td>1.0</td>\n",
       "      <td>0</td>\n",
       "      <td>0.0</td>\n",
       "      <td>0.0</td>\n",
       "    </tr>\n",
       "    <tr>\n",
       "      <th>4009</th>\n",
       "      <td>0.0</td>\n",
       "      <td>0</td>\n",
       "      <td>0.0</td>\n",
       "      <td>0.0</td>\n",
       "    </tr>\n",
       "    <tr>\n",
       "      <th>140</th>\n",
       "      <td>1.0</td>\n",
       "      <td>1</td>\n",
       "      <td>2.0</td>\n",
       "      <td>2.5</td>\n",
       "    </tr>\n",
       "  </tbody>\n",
       "</table>\n",
       "<p>599 rows × 4 columns</p>\n",
       "</div>"
      ],
      "text/plain": [
       "      Nivel_Ingresos  Estado_Siniestro  Morosidad_semestral  \\\n",
       "3295             1.0                 1                  0.0   \n",
       "3513             0.0                 0                  0.0   \n",
       "2173             0.0                 1                  1.0   \n",
       "4534             1.0                 0                  0.0   \n",
       "3272             1.0                 1                  0.0   \n",
       "...              ...               ...                  ...   \n",
       "1073             1.0                 0                  0.0   \n",
       "328              1.0                 1                  1.0   \n",
       "1590             1.0                 0                  0.0   \n",
       "4009             0.0                 0                  0.0   \n",
       "140              1.0                 1                  2.0   \n",
       "\n",
       "      Sinestros_semestrales  \n",
       "3295                    0.5  \n",
       "3513                    0.0  \n",
       "2173                    0.0  \n",
       "4534                    0.0  \n",
       "3272                    6.0  \n",
       "...                     ...  \n",
       "1073                    0.0  \n",
       "328                     1.5  \n",
       "1590                    0.0  \n",
       "4009                    0.0  \n",
       "140                     2.5  \n",
       "\n",
       "[599 rows x 4 columns]"
      ]
     },
     "execution_count": 21,
     "metadata": {},
     "output_type": "execute_result"
    }
   ],
   "source": [
    "train_df"
   ]
  },
  {
   "cell_type": "code",
   "execution_count": 22,
   "metadata": {},
   "outputs": [
    {
     "data": {
      "application/vnd.microsoft.datawrangler.viewer.v0+json": {
       "columns": [
        {
         "name": "index",
         "rawType": "int64",
         "type": "integer"
        },
        {
         "name": "Nivel_Ingresos",
         "rawType": "float64",
         "type": "float"
        },
        {
         "name": "Estado_Siniestro",
         "rawType": "int64",
         "type": "integer"
        },
        {
         "name": "Morosidad_semestral",
         "rawType": "float64",
         "type": "float"
        },
        {
         "name": "Sinestros_semestrales",
         "rawType": "float64",
         "type": "float"
        }
       ],
       "conversionMethod": "pd.DataFrame",
       "ref": "8e36dced-6777-4bb5-8b17-d1f7b6218397",
       "rows": [
        [
         "688",
         "1.0",
         "1",
         "0.0",
         "0.0"
        ],
        [
         "646",
         "1.0",
         "0",
         "0.0",
         "0.0"
        ],
        [
         "101",
         "3.0",
         "0",
         "0.0",
         "0.0"
        ],
        [
         "1765",
         "1.0",
         "1",
         "2.0",
         "2.0"
        ],
        [
         "2524",
         "1.0",
         "0",
         "0.0",
         "0.0"
        ],
        [
         "3642",
         "0.0",
         "1",
         "2.0",
         "3.0"
        ],
        [
         "4624",
         "1.0",
         "1",
         "0.5",
         "3.5"
        ],
        [
         "4273",
         "0.0",
         "1",
         "1.0",
         "0.5"
        ],
        [
         "4697",
         "0.0",
         "0",
         "0.0",
         "0.0"
        ],
        [
         "3280",
         "4.0",
         "0",
         "0.0",
         "0.0"
        ],
        [
         "1758",
         "1.0",
         "1",
         "0.0",
         "23.0"
        ],
        [
         "1803",
         "0.0",
         "1",
         "0.0",
         "0.0"
        ],
        [
         "1460",
         "1.0",
         "0",
         "0.0",
         "0.0"
        ],
        [
         "3500",
         "0.0",
         "1",
         "0.0",
         "0.0"
        ],
        [
         "2239",
         "0.0",
         "0",
         "0.0",
         "0.0"
        ],
        [
         "4219",
         "0.0",
         "0",
         "0.0",
         "0.0"
        ],
        [
         "1137",
         "0.0",
         "1",
         "0.0",
         "0.0"
        ],
        [
         "981",
         "1.0",
         "0",
         "0.0",
         "0.0"
        ],
        [
         "589",
         "0.0",
         "0",
         "0.0",
         "0.0"
        ],
        [
         "1570",
         "0.0",
         "0",
         "0.0",
         "0.0"
        ],
        [
         "3076",
         "1.0",
         "0",
         "0.0",
         "0.0"
        ],
        [
         "2369",
         "0.0",
         "1",
         "1.0",
         "0.5"
        ],
        [
         "2296",
         "1.0",
         "0",
         "0.0",
         "0.0"
        ],
        [
         "2339",
         "1.0",
         "1",
         "0.5",
         "7.0"
        ],
        [
         "3026",
         "0.0",
         "1",
         "1.0",
         "1.5"
        ],
        [
         "3961",
         "1.0",
         "0",
         "0.0",
         "0.0"
        ],
        [
         "2245",
         "2.0",
         "1",
         "0.0",
         "0.0"
        ],
        [
         "3529",
         "0.0",
         "1",
         "1.0",
         "1.0"
        ],
        [
         "2404",
         "0.0",
         "1",
         "1.0",
         "0.0"
        ],
        [
         "2515",
         "0.0",
         "1",
         "0.0",
         "0.0"
        ],
        [
         "535",
         "0.0",
         "1",
         "2.5",
         "1.5"
        ],
        [
         "1980",
         "3.0",
         "0",
         "0.0",
         "0.0"
        ],
        [
         "4695",
         "1.0",
         "0",
         "0.0",
         "0.0"
        ],
        [
         "3363",
         "0.0",
         "1",
         "0.5",
         "1.0"
        ],
        [
         "1683",
         "3.0",
         "0",
         "0.0",
         "0.0"
        ],
        [
         "368",
         "0.0",
         "1",
         "0.0",
         "0.0"
        ],
        [
         "3212",
         "1.0",
         "0",
         "0.0",
         "0.0"
        ],
        [
         "2010",
         "1.0",
         "0",
         "0.0",
         "0.0"
        ],
        [
         "2200",
         "0.0",
         "1",
         "1.5",
         "2.5"
        ],
        [
         "1162",
         "0.0",
         "0",
         "0.0",
         "0.0"
        ],
        [
         "3053",
         "0.0",
         "0",
         "0.0",
         "0.0"
        ],
        [
         "2034",
         "1.0",
         "1",
         "0.5",
         "0.0"
        ],
        [
         "3022",
         "1.0",
         "1",
         "0.0",
         "0.0"
        ],
        [
         "1892",
         "3.0",
         "1",
         "0.0",
         "0.0"
        ],
        [
         "2084",
         "1.0",
         "1",
         "0.0",
         "4.0"
        ],
        [
         "1540",
         "0.0",
         "1",
         "0.0",
         "0.0"
        ],
        [
         "982",
         "1.0",
         "1",
         "0.0",
         "1.0"
        ],
        [
         "4010",
         "1.0",
         "1",
         "0.0",
         "0.0"
        ],
        [
         "3402",
         "0.0",
         "1",
         "1.5",
         "2.0"
        ],
        [
         "2519",
         "1.0",
         "0",
         "0.0",
         "2.0"
        ]
       ],
       "shape": {
        "columns": 4,
        "rows": 129
       }
      },
      "text/html": [
       "<div>\n",
       "<style scoped>\n",
       "    .dataframe tbody tr th:only-of-type {\n",
       "        vertical-align: middle;\n",
       "    }\n",
       "\n",
       "    .dataframe tbody tr th {\n",
       "        vertical-align: top;\n",
       "    }\n",
       "\n",
       "    .dataframe thead th {\n",
       "        text-align: right;\n",
       "    }\n",
       "</style>\n",
       "<table border=\"1\" class=\"dataframe\">\n",
       "  <thead>\n",
       "    <tr style=\"text-align: right;\">\n",
       "      <th></th>\n",
       "      <th>Nivel_Ingresos</th>\n",
       "      <th>Estado_Siniestro</th>\n",
       "      <th>Morosidad_semestral</th>\n",
       "      <th>Sinestros_semestrales</th>\n",
       "    </tr>\n",
       "  </thead>\n",
       "  <tbody>\n",
       "    <tr>\n",
       "      <th>688</th>\n",
       "      <td>1.0</td>\n",
       "      <td>1</td>\n",
       "      <td>0.0</td>\n",
       "      <td>0.0</td>\n",
       "    </tr>\n",
       "    <tr>\n",
       "      <th>646</th>\n",
       "      <td>1.0</td>\n",
       "      <td>0</td>\n",
       "      <td>0.0</td>\n",
       "      <td>0.0</td>\n",
       "    </tr>\n",
       "    <tr>\n",
       "      <th>101</th>\n",
       "      <td>3.0</td>\n",
       "      <td>0</td>\n",
       "      <td>0.0</td>\n",
       "      <td>0.0</td>\n",
       "    </tr>\n",
       "    <tr>\n",
       "      <th>1765</th>\n",
       "      <td>1.0</td>\n",
       "      <td>1</td>\n",
       "      <td>2.0</td>\n",
       "      <td>2.0</td>\n",
       "    </tr>\n",
       "    <tr>\n",
       "      <th>2524</th>\n",
       "      <td>1.0</td>\n",
       "      <td>0</td>\n",
       "      <td>0.0</td>\n",
       "      <td>0.0</td>\n",
       "    </tr>\n",
       "    <tr>\n",
       "      <th>...</th>\n",
       "      <td>...</td>\n",
       "      <td>...</td>\n",
       "      <td>...</td>\n",
       "      <td>...</td>\n",
       "    </tr>\n",
       "    <tr>\n",
       "      <th>89</th>\n",
       "      <td>1.0</td>\n",
       "      <td>0</td>\n",
       "      <td>0.0</td>\n",
       "      <td>0.0</td>\n",
       "    </tr>\n",
       "    <tr>\n",
       "      <th>3775</th>\n",
       "      <td>0.0</td>\n",
       "      <td>1</td>\n",
       "      <td>0.5</td>\n",
       "      <td>0.0</td>\n",
       "    </tr>\n",
       "    <tr>\n",
       "      <th>2480</th>\n",
       "      <td>4.0</td>\n",
       "      <td>0</td>\n",
       "      <td>0.0</td>\n",
       "      <td>0.0</td>\n",
       "    </tr>\n",
       "    <tr>\n",
       "      <th>2746</th>\n",
       "      <td>1.0</td>\n",
       "      <td>1</td>\n",
       "      <td>3.5</td>\n",
       "      <td>0.0</td>\n",
       "    </tr>\n",
       "    <tr>\n",
       "      <th>3981</th>\n",
       "      <td>0.0</td>\n",
       "      <td>0</td>\n",
       "      <td>0.0</td>\n",
       "      <td>0.0</td>\n",
       "    </tr>\n",
       "  </tbody>\n",
       "</table>\n",
       "<p>129 rows × 4 columns</p>\n",
       "</div>"
      ],
      "text/plain": [
       "      Nivel_Ingresos  Estado_Siniestro  Morosidad_semestral  \\\n",
       "688              1.0                 1                  0.0   \n",
       "646              1.0                 0                  0.0   \n",
       "101              3.0                 0                  0.0   \n",
       "1765             1.0                 1                  2.0   \n",
       "2524             1.0                 0                  0.0   \n",
       "...              ...               ...                  ...   \n",
       "89               1.0                 0                  0.0   \n",
       "3775             0.0                 1                  0.5   \n",
       "2480             4.0                 0                  0.0   \n",
       "2746             1.0                 1                  3.5   \n",
       "3981             0.0                 0                  0.0   \n",
       "\n",
       "      Sinestros_semestrales  \n",
       "688                     0.0  \n",
       "646                     0.0  \n",
       "101                     0.0  \n",
       "1765                    2.0  \n",
       "2524                    0.0  \n",
       "...                     ...  \n",
       "89                      0.0  \n",
       "3775                    0.0  \n",
       "2480                    0.0  \n",
       "2746                    0.0  \n",
       "3981                    0.0  \n",
       "\n",
       "[129 rows x 4 columns]"
      ]
     },
     "execution_count": 22,
     "metadata": {},
     "output_type": "execute_result"
    }
   ],
   "source": [
    "test_df"
   ]
  },
  {
   "cell_type": "code",
   "execution_count": 23,
   "metadata": {},
   "outputs": [
    {
     "data": {
      "application/vnd.microsoft.datawrangler.viewer.v0+json": {
       "columns": [
        {
         "name": "index",
         "rawType": "int64",
         "type": "integer"
        },
        {
         "name": "Nivel_Ingresos",
         "rawType": "float64",
         "type": "float"
        },
        {
         "name": "Estado_Siniestro",
         "rawType": "int64",
         "type": "integer"
        },
        {
         "name": "Morosidad_semestral",
         "rawType": "float64",
         "type": "float"
        },
        {
         "name": "Sinestros_semestrales",
         "rawType": "float64",
         "type": "float"
        }
       ],
       "conversionMethod": "pd.DataFrame",
       "ref": "68915c23-3977-40d7-8b64-e9fecb5762cf",
       "rows": [
        [
         "4173",
         "1.0",
         "1",
         "0.0",
         "0.0"
        ],
        [
         "4257",
         "0.0",
         "1",
         "0.5",
         "2.5"
        ],
        [
         "3352",
         "1.0",
         "1",
         "0.0",
         "0.0"
        ],
        [
         "773",
         "0.0",
         "1",
         "2.0",
         "2.5"
        ],
        [
         "1860",
         "0.0",
         "1",
         "1.0",
         "0.5"
        ],
        [
         "2926",
         "1.0",
         "0",
         "0.0",
         "0.0"
        ],
        [
         "4490",
         "1.0",
         "0",
         "0.0",
         "0.0"
        ],
        [
         "1598",
         "1.0",
         "1",
         "1.0",
         "2.0"
        ],
        [
         "1493",
         "0.0",
         "0",
         "0.0",
         "0.0"
        ],
        [
         "1876",
         "0.0",
         "0",
         "0.0",
         "0.0"
        ],
        [
         "375",
         "0.0",
         "1",
         "1.5",
         "2.5"
        ],
        [
         "702",
         "0.0",
         "0",
         "0.5",
         "1.0"
        ],
        [
         "2853",
         "1.0",
         "1",
         "1.0",
         "0.0"
        ],
        [
         "1239",
         "1.0",
         "0",
         "0.0",
         "1.0"
        ],
        [
         "3187",
         "0.0",
         "1",
         "2.0",
         "7.0"
        ],
        [
         "2945",
         "0.0",
         "1",
         "1.0",
         "1.0"
        ],
        [
         "4294",
         "0.0",
         "1",
         "0.0",
         "0.0"
        ],
        [
         "649",
         "1.0",
         "0",
         "0.0",
         "0.0"
        ],
        [
         "2845",
         "1.0",
         "0",
         "0.0",
         "0.0"
        ],
        [
         "1944",
         "0.0",
         "0",
         "0.0",
         "0.0"
        ],
        [
         "2614",
         "0.0",
         "1",
         "1.5",
         "4.5"
        ],
        [
         "141",
         "1.0",
         "1",
         "0.0",
         "0.0"
        ],
        [
         "3897",
         "0.0",
         "0",
         "0.0",
         "0.0"
        ],
        [
         "3436",
         "0.0",
         "1",
         "0.0",
         "0.0"
        ],
        [
         "2954",
         "0.0",
         "1",
         "1.0",
         "4.0"
        ],
        [
         "632",
         "1.0",
         "1",
         "1.5",
         "7.5"
        ],
        [
         "3005",
         "0.0",
         "1",
         "1.0",
         "7.0"
        ],
        [
         "3008",
         "0.0",
         "1",
         "0.0",
         "0.0"
        ],
        [
         "861",
         "0.0",
         "0",
         "0.0",
         "0.0"
        ],
        [
         "3741",
         "0.0",
         "1",
         "0.0",
         "0.0"
        ],
        [
         "2572",
         "0.0",
         "1",
         "1.0",
         "1.5"
        ],
        [
         "2902",
         "0.0",
         "1",
         "0.0",
         "4.0"
        ],
        [
         "983",
         "1.0",
         "1",
         "2.0",
         "10.0"
        ],
        [
         "1845",
         "0.0",
         "0",
         "0.0",
         "0.0"
        ],
        [
         "2717",
         "4.0",
         "0",
         "0.0",
         "0.0"
        ],
        [
         "240",
         "0.0",
         "1",
         "0.0",
         "0.0"
        ],
        [
         "1647",
         "0.0",
         "0",
         "0.0",
         "0.0"
        ],
        [
         "2964",
         "0.0",
         "1",
         "0.0",
         "0.0"
        ],
        [
         "2205",
         "1.0",
         "1",
         "1.0",
         "0.0"
        ],
        [
         "3275",
         "5.0",
         "0",
         "0.0",
         "0.0"
        ],
        [
         "4482",
         "1.0",
         "1",
         "0.0",
         "1.0"
        ],
        [
         "3789",
         "1.0",
         "0",
         "0.0",
         "0.0"
        ],
        [
         "4319",
         "0.0",
         "0",
         "0.0",
         "0.0"
        ],
        [
         "775",
         "0.0",
         "0",
         "0.0",
         "0.0"
        ],
        [
         "4643",
         "0.0",
         "1",
         "3.5",
         "5.0"
        ],
        [
         "4063",
         "3.0",
         "0",
         "0.0",
         "0.0"
        ],
        [
         "1872",
         "0.0",
         "1",
         "0.0",
         "10.0"
        ],
        [
         "1160",
         "0.0",
         "0",
         "0.0",
         "0.0"
        ],
        [
         "4582",
         "1.0",
         "1",
         "0.0",
         "1.5"
        ],
        [
         "2179",
         "1.0",
         "0",
         "0.0",
         "0.0"
        ]
       ],
       "shape": {
        "columns": 4,
        "rows": 128
       }
      },
      "text/html": [
       "<div>\n",
       "<style scoped>\n",
       "    .dataframe tbody tr th:only-of-type {\n",
       "        vertical-align: middle;\n",
       "    }\n",
       "\n",
       "    .dataframe tbody tr th {\n",
       "        vertical-align: top;\n",
       "    }\n",
       "\n",
       "    .dataframe thead th {\n",
       "        text-align: right;\n",
       "    }\n",
       "</style>\n",
       "<table border=\"1\" class=\"dataframe\">\n",
       "  <thead>\n",
       "    <tr style=\"text-align: right;\">\n",
       "      <th></th>\n",
       "      <th>Nivel_Ingresos</th>\n",
       "      <th>Estado_Siniestro</th>\n",
       "      <th>Morosidad_semestral</th>\n",
       "      <th>Sinestros_semestrales</th>\n",
       "    </tr>\n",
       "  </thead>\n",
       "  <tbody>\n",
       "    <tr>\n",
       "      <th>4173</th>\n",
       "      <td>1.0</td>\n",
       "      <td>1</td>\n",
       "      <td>0.0</td>\n",
       "      <td>0.0</td>\n",
       "    </tr>\n",
       "    <tr>\n",
       "      <th>4257</th>\n",
       "      <td>0.0</td>\n",
       "      <td>1</td>\n",
       "      <td>0.5</td>\n",
       "      <td>2.5</td>\n",
       "    </tr>\n",
       "    <tr>\n",
       "      <th>3352</th>\n",
       "      <td>1.0</td>\n",
       "      <td>1</td>\n",
       "      <td>0.0</td>\n",
       "      <td>0.0</td>\n",
       "    </tr>\n",
       "    <tr>\n",
       "      <th>773</th>\n",
       "      <td>0.0</td>\n",
       "      <td>1</td>\n",
       "      <td>2.0</td>\n",
       "      <td>2.5</td>\n",
       "    </tr>\n",
       "    <tr>\n",
       "      <th>1860</th>\n",
       "      <td>0.0</td>\n",
       "      <td>1</td>\n",
       "      <td>1.0</td>\n",
       "      <td>0.5</td>\n",
       "    </tr>\n",
       "    <tr>\n",
       "      <th>...</th>\n",
       "      <td>...</td>\n",
       "      <td>...</td>\n",
       "      <td>...</td>\n",
       "      <td>...</td>\n",
       "    </tr>\n",
       "    <tr>\n",
       "      <th>1128</th>\n",
       "      <td>1.0</td>\n",
       "      <td>1</td>\n",
       "      <td>0.5</td>\n",
       "      <td>2.5</td>\n",
       "    </tr>\n",
       "    <tr>\n",
       "      <th>1397</th>\n",
       "      <td>1.0</td>\n",
       "      <td>0</td>\n",
       "      <td>0.0</td>\n",
       "      <td>0.0</td>\n",
       "    </tr>\n",
       "    <tr>\n",
       "      <th>177</th>\n",
       "      <td>0.0</td>\n",
       "      <td>0</td>\n",
       "      <td>0.0</td>\n",
       "      <td>0.0</td>\n",
       "    </tr>\n",
       "    <tr>\n",
       "      <th>3068</th>\n",
       "      <td>1.0</td>\n",
       "      <td>0</td>\n",
       "      <td>0.0</td>\n",
       "      <td>0.0</td>\n",
       "    </tr>\n",
       "    <tr>\n",
       "      <th>246</th>\n",
       "      <td>1.0</td>\n",
       "      <td>1</td>\n",
       "      <td>0.0</td>\n",
       "      <td>0.0</td>\n",
       "    </tr>\n",
       "  </tbody>\n",
       "</table>\n",
       "<p>128 rows × 4 columns</p>\n",
       "</div>"
      ],
      "text/plain": [
       "      Nivel_Ingresos  Estado_Siniestro  Morosidad_semestral  \\\n",
       "4173             1.0                 1                  0.0   \n",
       "4257             0.0                 1                  0.5   \n",
       "3352             1.0                 1                  0.0   \n",
       "773              0.0                 1                  2.0   \n",
       "1860             0.0                 1                  1.0   \n",
       "...              ...               ...                  ...   \n",
       "1128             1.0                 1                  0.5   \n",
       "1397             1.0                 0                  0.0   \n",
       "177              0.0                 0                  0.0   \n",
       "3068             1.0                 0                  0.0   \n",
       "246              1.0                 1                  0.0   \n",
       "\n",
       "      Sinestros_semestrales  \n",
       "4173                    0.0  \n",
       "4257                    2.5  \n",
       "3352                    0.0  \n",
       "773                     2.5  \n",
       "1860                    0.5  \n",
       "...                     ...  \n",
       "1128                    2.5  \n",
       "1397                    0.0  \n",
       "177                     0.0  \n",
       "3068                    0.0  \n",
       "246                     0.0  \n",
       "\n",
       "[128 rows x 4 columns]"
      ]
     },
     "execution_count": 23,
     "metadata": {},
     "output_type": "execute_result"
    }
   ],
   "source": [
    "val_df\n"
   ]
  },
  {
   "cell_type": "code",
   "execution_count": null,
   "metadata": {},
   "outputs": [],
   "source": []
  },
  {
   "cell_type": "markdown",
   "metadata": {},
   "source": [
    "### Escalado"
   ]
  },
  {
   "cell_type": "code",
   "execution_count": 24,
   "metadata": {},
   "outputs": [
    {
     "ename": "SyntaxError",
     "evalue": "unmatched ']' (3110681565.py, line 9)",
     "output_type": "error",
     "traceback": [
      "\u001b[0;36m  Cell \u001b[0;32mIn[24], line 9\u001b[0;36m\u001b[0m\n\u001b[0;31m    atributos = x_df.loc[:,'Sinestros_semestrales']]\u001b[0m\n\u001b[0m                                                   ^\u001b[0m\n\u001b[0;31mSyntaxError\u001b[0m\u001b[0;31m:\u001b[0m unmatched ']'\n"
     ]
    }
   ],
   "source": [
    "class Escalado():\n",
    "    def __init__(self,df):\n",
    "        self.df = df\n",
    "        self.x_df = df.drop(columns = 'Estado_Siniestro',axis=1)\n",
    "        self.y_df = df['Estado_Siniestro'].copy()\n",
    "\n",
    "    def escalamos(self,x_df):\n",
    "        from sklearn.preprocessing import RobustScaler\n",
    "        atributos = x_df.loc[:,'Sinestros_semestrales']\n",
    "        scaler = RobustScaler()\n",
    "        x_df.loc[:,['Antigüedad_Maxima','Sinestros_semestrales']] = scaler.fit_transform(atributos)\n",
    "        return x_df"
   ]
  },
  {
   "cell_type": "code",
   "execution_count": null,
   "metadata": {},
   "outputs": [],
   "source": [
    "# Escalamos el train_df\n",
    "instanciamos = Escalado(train_df)\n",
    "x_train_escalado = instanciamos.escalamos(instanciamos.x_df)\n",
    "y_train = instanciamos.y_df"
   ]
  },
  {
   "cell_type": "code",
   "execution_count": null,
   "metadata": {},
   "outputs": [],
   "source": [
    "# Escalamos el val_df\n",
    "\n",
    "instanciamos = Escalado(val_df)\n",
    "x_val_escalado = instanciamos.escalamos(instanciamos.x_df)\n",
    "y_val = instanciamos.y_df\n"
   ]
  },
  {
   "cell_type": "code",
   "execution_count": null,
   "metadata": {},
   "outputs": [],
   "source": [
    "# Escalamos el test_df\n",
    "\n",
    "instanciamos = Escalado(test_df)\n",
    "x_test_escalado = instanciamos.escalamos(instanciamos.x_df)\n",
    "y_test = instanciamos.y_df\n"
   ]
  },
  {
   "cell_type": "code",
   "execution_count": null,
   "metadata": {},
   "outputs": [
    {
     "data": {
      "text/plain": [
       "Index(['Antigüedad_Maxima', 'Nivel_Ingresos', 'Morosidad_semestral',\n",
       "       'Sinestros_semestrales'],\n",
       "      dtype='object')"
      ]
     },
     "execution_count": 119,
     "metadata": {},
     "output_type": "execute_result"
    }
   ],
   "source": [
    "x_test_escalado.columns"
   ]
  },
  {
   "cell_type": "code",
   "execution_count": null,
   "metadata": {},
   "outputs": [
    {
     "data": {
      "text/html": [
       "<style>#sk-container-id-3 {\n",
       "  /* Definition of color scheme common for light and dark mode */\n",
       "  --sklearn-color-text: #000;\n",
       "  --sklearn-color-text-muted: #666;\n",
       "  --sklearn-color-line: gray;\n",
       "  /* Definition of color scheme for unfitted estimators */\n",
       "  --sklearn-color-unfitted-level-0: #fff5e6;\n",
       "  --sklearn-color-unfitted-level-1: #f6e4d2;\n",
       "  --sklearn-color-unfitted-level-2: #ffe0b3;\n",
       "  --sklearn-color-unfitted-level-3: chocolate;\n",
       "  /* Definition of color scheme for fitted estimators */\n",
       "  --sklearn-color-fitted-level-0: #f0f8ff;\n",
       "  --sklearn-color-fitted-level-1: #d4ebff;\n",
       "  --sklearn-color-fitted-level-2: #b3dbfd;\n",
       "  --sklearn-color-fitted-level-3: cornflowerblue;\n",
       "\n",
       "  /* Specific color for light theme */\n",
       "  --sklearn-color-text-on-default-background: var(--sg-text-color, var(--theme-code-foreground, var(--jp-content-font-color1, black)));\n",
       "  --sklearn-color-background: var(--sg-background-color, var(--theme-background, var(--jp-layout-color0, white)));\n",
       "  --sklearn-color-border-box: var(--sg-text-color, var(--theme-code-foreground, var(--jp-content-font-color1, black)));\n",
       "  --sklearn-color-icon: #696969;\n",
       "\n",
       "  @media (prefers-color-scheme: dark) {\n",
       "    /* Redefinition of color scheme for dark theme */\n",
       "    --sklearn-color-text-on-default-background: var(--sg-text-color, var(--theme-code-foreground, var(--jp-content-font-color1, white)));\n",
       "    --sklearn-color-background: var(--sg-background-color, var(--theme-background, var(--jp-layout-color0, #111)));\n",
       "    --sklearn-color-border-box: var(--sg-text-color, var(--theme-code-foreground, var(--jp-content-font-color1, white)));\n",
       "    --sklearn-color-icon: #878787;\n",
       "  }\n",
       "}\n",
       "\n",
       "#sk-container-id-3 {\n",
       "  color: var(--sklearn-color-text);\n",
       "}\n",
       "\n",
       "#sk-container-id-3 pre {\n",
       "  padding: 0;\n",
       "}\n",
       "\n",
       "#sk-container-id-3 input.sk-hidden--visually {\n",
       "  border: 0;\n",
       "  clip: rect(1px 1px 1px 1px);\n",
       "  clip: rect(1px, 1px, 1px, 1px);\n",
       "  height: 1px;\n",
       "  margin: -1px;\n",
       "  overflow: hidden;\n",
       "  padding: 0;\n",
       "  position: absolute;\n",
       "  width: 1px;\n",
       "}\n",
       "\n",
       "#sk-container-id-3 div.sk-dashed-wrapped {\n",
       "  border: 1px dashed var(--sklearn-color-line);\n",
       "  margin: 0 0.4em 0.5em 0.4em;\n",
       "  box-sizing: border-box;\n",
       "  padding-bottom: 0.4em;\n",
       "  background-color: var(--sklearn-color-background);\n",
       "}\n",
       "\n",
       "#sk-container-id-3 div.sk-container {\n",
       "  /* jupyter's `normalize.less` sets `[hidden] { display: none; }`\n",
       "     but bootstrap.min.css set `[hidden] { display: none !important; }`\n",
       "     so we also need the `!important` here to be able to override the\n",
       "     default hidden behavior on the sphinx rendered scikit-learn.org.\n",
       "     See: https://github.com/scikit-learn/scikit-learn/issues/21755 */\n",
       "  display: inline-block !important;\n",
       "  position: relative;\n",
       "}\n",
       "\n",
       "#sk-container-id-3 div.sk-text-repr-fallback {\n",
       "  display: none;\n",
       "}\n",
       "\n",
       "div.sk-parallel-item,\n",
       "div.sk-serial,\n",
       "div.sk-item {\n",
       "  /* draw centered vertical line to link estimators */\n",
       "  background-image: linear-gradient(var(--sklearn-color-text-on-default-background), var(--sklearn-color-text-on-default-background));\n",
       "  background-size: 2px 100%;\n",
       "  background-repeat: no-repeat;\n",
       "  background-position: center center;\n",
       "}\n",
       "\n",
       "/* Parallel-specific style estimator block */\n",
       "\n",
       "#sk-container-id-3 div.sk-parallel-item::after {\n",
       "  content: \"\";\n",
       "  width: 100%;\n",
       "  border-bottom: 2px solid var(--sklearn-color-text-on-default-background);\n",
       "  flex-grow: 1;\n",
       "}\n",
       "\n",
       "#sk-container-id-3 div.sk-parallel {\n",
       "  display: flex;\n",
       "  align-items: stretch;\n",
       "  justify-content: center;\n",
       "  background-color: var(--sklearn-color-background);\n",
       "  position: relative;\n",
       "}\n",
       "\n",
       "#sk-container-id-3 div.sk-parallel-item {\n",
       "  display: flex;\n",
       "  flex-direction: column;\n",
       "}\n",
       "\n",
       "#sk-container-id-3 div.sk-parallel-item:first-child::after {\n",
       "  align-self: flex-end;\n",
       "  width: 50%;\n",
       "}\n",
       "\n",
       "#sk-container-id-3 div.sk-parallel-item:last-child::after {\n",
       "  align-self: flex-start;\n",
       "  width: 50%;\n",
       "}\n",
       "\n",
       "#sk-container-id-3 div.sk-parallel-item:only-child::after {\n",
       "  width: 0;\n",
       "}\n",
       "\n",
       "/* Serial-specific style estimator block */\n",
       "\n",
       "#sk-container-id-3 div.sk-serial {\n",
       "  display: flex;\n",
       "  flex-direction: column;\n",
       "  align-items: center;\n",
       "  background-color: var(--sklearn-color-background);\n",
       "  padding-right: 1em;\n",
       "  padding-left: 1em;\n",
       "}\n",
       "\n",
       "\n",
       "/* Toggleable style: style used for estimator/Pipeline/ColumnTransformer box that is\n",
       "clickable and can be expanded/collapsed.\n",
       "- Pipeline and ColumnTransformer use this feature and define the default style\n",
       "- Estimators will overwrite some part of the style using the `sk-estimator` class\n",
       "*/\n",
       "\n",
       "/* Pipeline and ColumnTransformer style (default) */\n",
       "\n",
       "#sk-container-id-3 div.sk-toggleable {\n",
       "  /* Default theme specific background. It is overwritten whether we have a\n",
       "  specific estimator or a Pipeline/ColumnTransformer */\n",
       "  background-color: var(--sklearn-color-background);\n",
       "}\n",
       "\n",
       "/* Toggleable label */\n",
       "#sk-container-id-3 label.sk-toggleable__label {\n",
       "  cursor: pointer;\n",
       "  display: flex;\n",
       "  width: 100%;\n",
       "  margin-bottom: 0;\n",
       "  padding: 0.5em;\n",
       "  box-sizing: border-box;\n",
       "  text-align: center;\n",
       "  align-items: start;\n",
       "  justify-content: space-between;\n",
       "  gap: 0.5em;\n",
       "}\n",
       "\n",
       "#sk-container-id-3 label.sk-toggleable__label .caption {\n",
       "  font-size: 0.6rem;\n",
       "  font-weight: lighter;\n",
       "  color: var(--sklearn-color-text-muted);\n",
       "}\n",
       "\n",
       "#sk-container-id-3 label.sk-toggleable__label-arrow:before {\n",
       "  /* Arrow on the left of the label */\n",
       "  content: \"▸\";\n",
       "  float: left;\n",
       "  margin-right: 0.25em;\n",
       "  color: var(--sklearn-color-icon);\n",
       "}\n",
       "\n",
       "#sk-container-id-3 label.sk-toggleable__label-arrow:hover:before {\n",
       "  color: var(--sklearn-color-text);\n",
       "}\n",
       "\n",
       "/* Toggleable content - dropdown */\n",
       "\n",
       "#sk-container-id-3 div.sk-toggleable__content {\n",
       "  max-height: 0;\n",
       "  max-width: 0;\n",
       "  overflow: hidden;\n",
       "  text-align: left;\n",
       "  /* unfitted */\n",
       "  background-color: var(--sklearn-color-unfitted-level-0);\n",
       "}\n",
       "\n",
       "#sk-container-id-3 div.sk-toggleable__content.fitted {\n",
       "  /* fitted */\n",
       "  background-color: var(--sklearn-color-fitted-level-0);\n",
       "}\n",
       "\n",
       "#sk-container-id-3 div.sk-toggleable__content pre {\n",
       "  margin: 0.2em;\n",
       "  border-radius: 0.25em;\n",
       "  color: var(--sklearn-color-text);\n",
       "  /* unfitted */\n",
       "  background-color: var(--sklearn-color-unfitted-level-0);\n",
       "}\n",
       "\n",
       "#sk-container-id-3 div.sk-toggleable__content.fitted pre {\n",
       "  /* unfitted */\n",
       "  background-color: var(--sklearn-color-fitted-level-0);\n",
       "}\n",
       "\n",
       "#sk-container-id-3 input.sk-toggleable__control:checked~div.sk-toggleable__content {\n",
       "  /* Expand drop-down */\n",
       "  max-height: 200px;\n",
       "  max-width: 100%;\n",
       "  overflow: auto;\n",
       "}\n",
       "\n",
       "#sk-container-id-3 input.sk-toggleable__control:checked~label.sk-toggleable__label-arrow:before {\n",
       "  content: \"▾\";\n",
       "}\n",
       "\n",
       "/* Pipeline/ColumnTransformer-specific style */\n",
       "\n",
       "#sk-container-id-3 div.sk-label input.sk-toggleable__control:checked~label.sk-toggleable__label {\n",
       "  color: var(--sklearn-color-text);\n",
       "  background-color: var(--sklearn-color-unfitted-level-2);\n",
       "}\n",
       "\n",
       "#sk-container-id-3 div.sk-label.fitted input.sk-toggleable__control:checked~label.sk-toggleable__label {\n",
       "  background-color: var(--sklearn-color-fitted-level-2);\n",
       "}\n",
       "\n",
       "/* Estimator-specific style */\n",
       "\n",
       "/* Colorize estimator box */\n",
       "#sk-container-id-3 div.sk-estimator input.sk-toggleable__control:checked~label.sk-toggleable__label {\n",
       "  /* unfitted */\n",
       "  background-color: var(--sklearn-color-unfitted-level-2);\n",
       "}\n",
       "\n",
       "#sk-container-id-3 div.sk-estimator.fitted input.sk-toggleable__control:checked~label.sk-toggleable__label {\n",
       "  /* fitted */\n",
       "  background-color: var(--sklearn-color-fitted-level-2);\n",
       "}\n",
       "\n",
       "#sk-container-id-3 div.sk-label label.sk-toggleable__label,\n",
       "#sk-container-id-3 div.sk-label label {\n",
       "  /* The background is the default theme color */\n",
       "  color: var(--sklearn-color-text-on-default-background);\n",
       "}\n",
       "\n",
       "/* On hover, darken the color of the background */\n",
       "#sk-container-id-3 div.sk-label:hover label.sk-toggleable__label {\n",
       "  color: var(--sklearn-color-text);\n",
       "  background-color: var(--sklearn-color-unfitted-level-2);\n",
       "}\n",
       "\n",
       "/* Label box, darken color on hover, fitted */\n",
       "#sk-container-id-3 div.sk-label.fitted:hover label.sk-toggleable__label.fitted {\n",
       "  color: var(--sklearn-color-text);\n",
       "  background-color: var(--sklearn-color-fitted-level-2);\n",
       "}\n",
       "\n",
       "/* Estimator label */\n",
       "\n",
       "#sk-container-id-3 div.sk-label label {\n",
       "  font-family: monospace;\n",
       "  font-weight: bold;\n",
       "  display: inline-block;\n",
       "  line-height: 1.2em;\n",
       "}\n",
       "\n",
       "#sk-container-id-3 div.sk-label-container {\n",
       "  text-align: center;\n",
       "}\n",
       "\n",
       "/* Estimator-specific */\n",
       "#sk-container-id-3 div.sk-estimator {\n",
       "  font-family: monospace;\n",
       "  border: 1px dotted var(--sklearn-color-border-box);\n",
       "  border-radius: 0.25em;\n",
       "  box-sizing: border-box;\n",
       "  margin-bottom: 0.5em;\n",
       "  /* unfitted */\n",
       "  background-color: var(--sklearn-color-unfitted-level-0);\n",
       "}\n",
       "\n",
       "#sk-container-id-3 div.sk-estimator.fitted {\n",
       "  /* fitted */\n",
       "  background-color: var(--sklearn-color-fitted-level-0);\n",
       "}\n",
       "\n",
       "/* on hover */\n",
       "#sk-container-id-3 div.sk-estimator:hover {\n",
       "  /* unfitted */\n",
       "  background-color: var(--sklearn-color-unfitted-level-2);\n",
       "}\n",
       "\n",
       "#sk-container-id-3 div.sk-estimator.fitted:hover {\n",
       "  /* fitted */\n",
       "  background-color: var(--sklearn-color-fitted-level-2);\n",
       "}\n",
       "\n",
       "/* Specification for estimator info (e.g. \"i\" and \"?\") */\n",
       "\n",
       "/* Common style for \"i\" and \"?\" */\n",
       "\n",
       ".sk-estimator-doc-link,\n",
       "a:link.sk-estimator-doc-link,\n",
       "a:visited.sk-estimator-doc-link {\n",
       "  float: right;\n",
       "  font-size: smaller;\n",
       "  line-height: 1em;\n",
       "  font-family: monospace;\n",
       "  background-color: var(--sklearn-color-background);\n",
       "  border-radius: 1em;\n",
       "  height: 1em;\n",
       "  width: 1em;\n",
       "  text-decoration: none !important;\n",
       "  margin-left: 0.5em;\n",
       "  text-align: center;\n",
       "  /* unfitted */\n",
       "  border: var(--sklearn-color-unfitted-level-1) 1pt solid;\n",
       "  color: var(--sklearn-color-unfitted-level-1);\n",
       "}\n",
       "\n",
       ".sk-estimator-doc-link.fitted,\n",
       "a:link.sk-estimator-doc-link.fitted,\n",
       "a:visited.sk-estimator-doc-link.fitted {\n",
       "  /* fitted */\n",
       "  border: var(--sklearn-color-fitted-level-1) 1pt solid;\n",
       "  color: var(--sklearn-color-fitted-level-1);\n",
       "}\n",
       "\n",
       "/* On hover */\n",
       "div.sk-estimator:hover .sk-estimator-doc-link:hover,\n",
       ".sk-estimator-doc-link:hover,\n",
       "div.sk-label-container:hover .sk-estimator-doc-link:hover,\n",
       ".sk-estimator-doc-link:hover {\n",
       "  /* unfitted */\n",
       "  background-color: var(--sklearn-color-unfitted-level-3);\n",
       "  color: var(--sklearn-color-background);\n",
       "  text-decoration: none;\n",
       "}\n",
       "\n",
       "div.sk-estimator.fitted:hover .sk-estimator-doc-link.fitted:hover,\n",
       ".sk-estimator-doc-link.fitted:hover,\n",
       "div.sk-label-container:hover .sk-estimator-doc-link.fitted:hover,\n",
       ".sk-estimator-doc-link.fitted:hover {\n",
       "  /* fitted */\n",
       "  background-color: var(--sklearn-color-fitted-level-3);\n",
       "  color: var(--sklearn-color-background);\n",
       "  text-decoration: none;\n",
       "}\n",
       "\n",
       "/* Span, style for the box shown on hovering the info icon */\n",
       ".sk-estimator-doc-link span {\n",
       "  display: none;\n",
       "  z-index: 9999;\n",
       "  position: relative;\n",
       "  font-weight: normal;\n",
       "  right: .2ex;\n",
       "  padding: .5ex;\n",
       "  margin: .5ex;\n",
       "  width: min-content;\n",
       "  min-width: 20ex;\n",
       "  max-width: 50ex;\n",
       "  color: var(--sklearn-color-text);\n",
       "  box-shadow: 2pt 2pt 4pt #999;\n",
       "  /* unfitted */\n",
       "  background: var(--sklearn-color-unfitted-level-0);\n",
       "  border: .5pt solid var(--sklearn-color-unfitted-level-3);\n",
       "}\n",
       "\n",
       ".sk-estimator-doc-link.fitted span {\n",
       "  /* fitted */\n",
       "  background: var(--sklearn-color-fitted-level-0);\n",
       "  border: var(--sklearn-color-fitted-level-3);\n",
       "}\n",
       "\n",
       ".sk-estimator-doc-link:hover span {\n",
       "  display: block;\n",
       "}\n",
       "\n",
       "/* \"?\"-specific style due to the `<a>` HTML tag */\n",
       "\n",
       "#sk-container-id-3 a.estimator_doc_link {\n",
       "  float: right;\n",
       "  font-size: 1rem;\n",
       "  line-height: 1em;\n",
       "  font-family: monospace;\n",
       "  background-color: var(--sklearn-color-background);\n",
       "  border-radius: 1rem;\n",
       "  height: 1rem;\n",
       "  width: 1rem;\n",
       "  text-decoration: none;\n",
       "  /* unfitted */\n",
       "  color: var(--sklearn-color-unfitted-level-1);\n",
       "  border: var(--sklearn-color-unfitted-level-1) 1pt solid;\n",
       "}\n",
       "\n",
       "#sk-container-id-3 a.estimator_doc_link.fitted {\n",
       "  /* fitted */\n",
       "  border: var(--sklearn-color-fitted-level-1) 1pt solid;\n",
       "  color: var(--sklearn-color-fitted-level-1);\n",
       "}\n",
       "\n",
       "/* On hover */\n",
       "#sk-container-id-3 a.estimator_doc_link:hover {\n",
       "  /* unfitted */\n",
       "  background-color: var(--sklearn-color-unfitted-level-3);\n",
       "  color: var(--sklearn-color-background);\n",
       "  text-decoration: none;\n",
       "}\n",
       "\n",
       "#sk-container-id-3 a.estimator_doc_link.fitted:hover {\n",
       "  /* fitted */\n",
       "  background-color: var(--sklearn-color-fitted-level-3);\n",
       "}\n",
       "</style><div id=\"sk-container-id-3\" class=\"sk-top-container\"><div class=\"sk-text-repr-fallback\"><pre>LogisticRegression(max_iter=1000, solver=&#x27;newton-cg&#x27;)</pre><b>In a Jupyter environment, please rerun this cell to show the HTML representation or trust the notebook. <br />On GitHub, the HTML representation is unable to render, please try loading this page with nbviewer.org.</b></div><div class=\"sk-container\" hidden><div class=\"sk-item\"><div class=\"sk-estimator fitted sk-toggleable\"><input class=\"sk-toggleable__control sk-hidden--visually\" id=\"sk-estimator-id-3\" type=\"checkbox\" checked><label for=\"sk-estimator-id-3\" class=\"sk-toggleable__label fitted sk-toggleable__label-arrow\"><div><div>LogisticRegression</div></div><div><a class=\"sk-estimator-doc-link fitted\" rel=\"noreferrer\" target=\"_blank\" href=\"https://scikit-learn.org/1.6/modules/generated/sklearn.linear_model.LogisticRegression.html\">?<span>Documentation for LogisticRegression</span></a><span class=\"sk-estimator-doc-link fitted\">i<span>Fitted</span></span></div></label><div class=\"sk-toggleable__content fitted\"><pre>LogisticRegression(max_iter=1000, solver=&#x27;newton-cg&#x27;)</pre></div> </div></div></div></div>"
      ],
      "text/plain": [
       "LogisticRegression(max_iter=1000, solver='newton-cg')"
      ]
     },
     "execution_count": 120,
     "metadata": {},
     "output_type": "execute_result"
    }
   ],
   "source": [
    "# Entrenamos un algoritmo basado en regresión logística\n",
    "from sklearn.linear_model import LogisticRegression\n",
    "\n",
    "clf = LogisticRegression(solver=\"newton-cg\", max_iter=1000)\n",
    "clf.fit(x_train_escalado,y_train)  "
   ]
  },
  {
   "cell_type": "markdown",
   "metadata": {},
   "source": [
    "## Generamos predicciones"
   ]
  },
  {
   "cell_type": "code",
   "execution_count": null,
   "metadata": {},
   "outputs": [
    {
     "data": {
      "application/vnd.microsoft.datawrangler.viewer.v0+json": {
       "columns": [
        {
         "name": "index",
         "rawType": "object",
         "type": "string"
        },
        {
         "name": "Antigüedad_Maxima",
         "rawType": "float64",
         "type": "float"
        },
        {
         "name": "Nivel_Ingresos",
         "rawType": "float64",
         "type": "float"
        },
        {
         "name": "Morosidad_semestral",
         "rawType": "float64",
         "type": "float"
        },
        {
         "name": "Sinestros_semestrales",
         "rawType": "float64",
         "type": "float"
        }
       ],
       "conversionMethod": "pd.DataFrame",
       "ref": "84ada924-4bbb-4894-bdf9-34a2dafe8475",
       "rows": [
        [
         "Antigüedad_Maxima",
         "1.0",
         "0.3618898834952463",
         "-0.19892108030209163",
         "-0.10114406325348338"
        ],
        [
         "Nivel_Ingresos",
         "0.3618898834952463",
         "1.0",
         "-0.20187908238906926",
         "-0.080762435041729"
        ],
        [
         "Morosidad_semestral",
         "-0.19892108030209163",
         "-0.20187908238906926",
         "1.0",
         "0.4378362799649865"
        ],
        [
         "Sinestros_semestrales",
         "-0.10114406325348338",
         "-0.080762435041729",
         "0.4378362799649865",
         "1.0"
        ]
       ],
       "shape": {
        "columns": 4,
        "rows": 4
       }
      },
      "text/html": [
       "<div>\n",
       "<style scoped>\n",
       "    .dataframe tbody tr th:only-of-type {\n",
       "        vertical-align: middle;\n",
       "    }\n",
       "\n",
       "    .dataframe tbody tr th {\n",
       "        vertical-align: top;\n",
       "    }\n",
       "\n",
       "    .dataframe thead th {\n",
       "        text-align: right;\n",
       "    }\n",
       "</style>\n",
       "<table border=\"1\" class=\"dataframe\">\n",
       "  <thead>\n",
       "    <tr style=\"text-align: right;\">\n",
       "      <th></th>\n",
       "      <th>Antigüedad_Maxima</th>\n",
       "      <th>Nivel_Ingresos</th>\n",
       "      <th>Morosidad_semestral</th>\n",
       "      <th>Sinestros_semestrales</th>\n",
       "    </tr>\n",
       "  </thead>\n",
       "  <tbody>\n",
       "    <tr>\n",
       "      <th>Antigüedad_Maxima</th>\n",
       "      <td>1.000000</td>\n",
       "      <td>0.361890</td>\n",
       "      <td>-0.198921</td>\n",
       "      <td>-0.101144</td>\n",
       "    </tr>\n",
       "    <tr>\n",
       "      <th>Nivel_Ingresos</th>\n",
       "      <td>0.361890</td>\n",
       "      <td>1.000000</td>\n",
       "      <td>-0.201879</td>\n",
       "      <td>-0.080762</td>\n",
       "    </tr>\n",
       "    <tr>\n",
       "      <th>Morosidad_semestral</th>\n",
       "      <td>-0.198921</td>\n",
       "      <td>-0.201879</td>\n",
       "      <td>1.000000</td>\n",
       "      <td>0.437836</td>\n",
       "    </tr>\n",
       "    <tr>\n",
       "      <th>Sinestros_semestrales</th>\n",
       "      <td>-0.101144</td>\n",
       "      <td>-0.080762</td>\n",
       "      <td>0.437836</td>\n",
       "      <td>1.000000</td>\n",
       "    </tr>\n",
       "  </tbody>\n",
       "</table>\n",
       "</div>"
      ],
      "text/plain": [
       "                       Antigüedad_Maxima  Nivel_Ingresos  Morosidad_semestral  \\\n",
       "Antigüedad_Maxima               1.000000        0.361890            -0.198921   \n",
       "Nivel_Ingresos                  0.361890        1.000000            -0.201879   \n",
       "Morosidad_semestral            -0.198921       -0.201879             1.000000   \n",
       "Sinestros_semestrales          -0.101144       -0.080762             0.437836   \n",
       "\n",
       "                       Sinestros_semestrales  \n",
       "Antigüedad_Maxima                  -0.101144  \n",
       "Nivel_Ingresos                     -0.080762  \n",
       "Morosidad_semestral                 0.437836  \n",
       "Sinestros_semestrales               1.000000  "
      ]
     },
     "execution_count": 121,
     "metadata": {},
     "output_type": "execute_result"
    }
   ],
   "source": [
    "x_train_escalado.corr()"
   ]
  },
  {
   "cell_type": "code",
   "execution_count": null,
   "metadata": {},
   "outputs": [
    {
     "data": {
      "text/plain": [
       "(128, 4)"
      ]
     },
     "execution_count": 122,
     "metadata": {},
     "output_type": "execute_result"
    }
   ],
   "source": [
    "x_val_escalado.shape"
   ]
  },
  {
   "cell_type": "code",
   "execution_count": null,
   "metadata": {},
   "outputs": [],
   "source": [
    "y_pred = clf.predict(x_val_escalado)"
   ]
  },
  {
   "cell_type": "markdown",
   "metadata": {},
   "source": [
    "## Matriz de confusiòn"
   ]
  },
  {
   "cell_type": "code",
   "execution_count": null,
   "metadata": {},
   "outputs": [
    {
     "data": {
      "text/plain": [
       "array([[54, 10],\n",
       "       [20, 44]])"
      ]
     },
     "execution_count": 124,
     "metadata": {},
     "output_type": "execute_result"
    }
   ],
   "source": [
    "from sklearn.metrics import confusion_matrix\n",
    "\n",
    "confusion_matrix(y_val, y_pred)"
   ]
  },
  {
   "cell_type": "code",
   "execution_count": null,
   "metadata": {},
   "outputs": [
    {
     "data": {
      "text/plain": [
       "<sklearn.metrics._plot.confusion_matrix.ConfusionMatrixDisplay at 0x75b203bf4170>"
      ]
     },
     "execution_count": 125,
     "metadata": {},
     "output_type": "execute_result"
    },
    {
     "data": {
      "image/png": "[encoded data removed]",
      "text/plain": [
       "<Figure size 640x480 with 2 Axes>"
      ]
     },
     "metadata": {},
     "output_type": "display_data"
    }
   ],
   "source": [
    "from sklearn.metrics import ConfusionMatrixDisplay\n",
    "\n",
    "ConfusionMatrixDisplay.from_estimator(clf, x_val_escalado, y_val, values_format='d')\n"
   ]
  },
  {
   "cell_type": "code",
   "execution_count": null,
   "metadata": {},
   "outputs": [
    {
     "name": "stdout",
     "output_type": "stream",
     "text": [
      "0.8148148148148148\n"
     ]
    }
   ],
   "source": [
    "from sklearn.metrics import precision_score\n",
    "\n",
    "print(precision_score(y_val, y_pred))"
   ]
  },
  {
   "cell_type": "code",
   "execution_count": null,
   "metadata": {},
   "outputs": [
    {
     "name": "stdout",
     "output_type": "stream",
     "text": [
      "0.6875\n"
     ]
    }
   ],
   "source": [
    "# Ahora haremos el recall\n",
    "\n",
    "from sklearn.metrics import recall_score\n",
    "\n",
    "print(recall_score(y_val, y_pred))"
   ]
  },
  {
   "cell_type": "code",
   "execution_count": null,
   "metadata": {},
   "outputs": [
    {
     "name": "stdout",
     "output_type": "stream",
     "text": [
      "0.7457627118644068\n"
     ]
    }
   ],
   "source": [
    "# ahora haremos el f1_score\n",
    "\n",
    "from sklearn.metrics import f1_score\n",
    "\n",
    "print(f1_score(y_val, y_pred))"
   ]
  },
  {
   "cell_type": "markdown",
   "metadata": {},
   "source": [
    "# Resultado: pèsimo"
   ]
  },
  {
   "cell_type": "markdown",
   "metadata": {},
   "source": [
    "# Tenemos que corregir desbalanceo"
   ]
  },
  {
   "cell_type": "code",
   "execution_count": null,
   "metadata": {},
   "outputs": [
    {
     "name": "stdout",
     "output_type": "stream",
     "text": [
      "Hola mundo\n"
     ]
    }
   ],
   "source": [
    "print(\"Hola mundo\")"
   ]
  }
 ],
 "metadata": {
  "kernelspec": {
   "display_name": "Python 3",
   "language": "python",
   "name": "python3"
  },
  "language_info": {
   "codemirror_mode": {
    "name": "ipython",
    "version": 3
   },
   "file_extension": ".py",
   "mimetype": "text/x-python",
   "name": "python",
   "nbconvert_exporter": "python",
   "pygments_lexer": "ipython3",
   "version": "3.12.8"
  }
 },
 "nbformat": 4,
 "nbformat_minor": 2
}
